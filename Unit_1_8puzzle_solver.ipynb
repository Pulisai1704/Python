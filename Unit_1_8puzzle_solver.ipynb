{
  "nbformat": 4,
  "nbformat_minor": 0,
  "metadata": {
    "colab": {
      "provenance": [],
      "authorship_tag": "ABX9TyNpg8mLEo6fmIL8teOK3hJ0",
      "include_colab_link": true
    },
    "kernelspec": {
      "name": "python3",
      "display_name": "Python 3"
    },
    "language_info": {
      "name": "python"
    }
  },
  "cells": [
    {
      "cell_type": "markdown",
      "metadata": {
        "id": "view-in-github",
        "colab_type": "text"
      },
      "source": [
        "<a href=\"https://colab.research.google.com/github/Pulisai1704/Python/blob/main/Unit_1_8puzzle_solver.ipynb\" target=\"_parent\"><img src=\"https://colab.research.google.com/assets/colab-badge.svg\" alt=\"Open In Colab\"/></a>"
      ]
    },
    {
      "cell_type": "code",
      "execution_count": 2,
      "metadata": {
        "colab": {
          "base_uri": "https://localhost:8080/"
        },
        "id": "6SHMYRtDX7pR",
        "outputId": "186a93ee-0d52-449d-81ce-fb26e13a36b1"
      },
      "outputs": [
        {
          "output_type": "stream",
          "name": "stdout",
          "text": [
            "1 2 3\n",
            "4 5 6\n",
            "7 0 8\n",
            "\n",
            "1 2 3\n",
            "4 5 6\n",
            "7 8 0\n",
            "\n"
          ]
        }
      ],
      "source": [
        "import heapq\n",
        "import numpy as np\n",
        "\n",
        "# Directions for moving tiles (up, down, left, right)\n",
        "DIRECTIONS = [(-1, 0), (1, 0), (0, -1), (0, 1)]\n",
        "\n",
        "class Node:\n",
        "    def __init__(self, puzzle, blank_pos, g, h, parent=None):\n",
        "        self.puzzle = puzzle\n",
        "        self.blank_pos = blank_pos\n",
        "        self.g = g  # Cost from start\n",
        "        self.h = h  # Heuristic cost\n",
        "        self.parent = parent\n",
        "\n",
        "    def __lt__(self, other):\n",
        "        return (self.g + self.h) < (other.g + other.h)\n",
        "\n",
        "    def get_f(self):\n",
        "        return self.g + self.h\n",
        "\n",
        "def manhattan_distance(puzzle):\n",
        "    distance = 0\n",
        "    size = len(puzzle)\n",
        "    for r in range(size):\n",
        "        for c in range(size):\n",
        "            value = puzzle[r][c]\n",
        "            if value != 0:\n",
        "                target_r, target_c = divmod(value - 1, size)\n",
        "                distance += abs(target_r - r) + abs(target_c - c)\n",
        "    return distance\n",
        "\n",
        "def is_solvable(puzzle):\n",
        "    one_d = [tile for row in puzzle for tile in row if tile != 0]\n",
        "    inversions = 0\n",
        "    for i in range(len(one_d) - 1):\n",
        "        for j in range(i + 1, len(one_d)):\n",
        "            if one_d[i] > one_d[j]:\n",
        "                inversions += 1\n",
        "    return inversions % 2 == 0\n",
        "\n",
        "def generate_moves(node):\n",
        "    neighbors = []\n",
        "    size = len(node.puzzle)\n",
        "    r, c = node.blank_pos\n",
        "\n",
        "    for dr, dc in DIRECTIONS:\n",
        "        nr, nc = r + dr, c + dc\n",
        "        if 0 <= nr < size and 0 <= nc < size:\n",
        "            new_puzzle = [row[:] for row in node.puzzle]\n",
        "            new_puzzle[r][c], new_puzzle[nr][nc] = new_puzzle[nr][nc], new_puzzle[r][c]\n",
        "            new_blank_pos = (nr, nc)\n",
        "            neighbors.append(Node(new_puzzle, new_blank_pos, node.g + 1, manhattan_distance(new_puzzle), node))\n",
        "\n",
        "    return neighbors\n",
        "\n",
        "def print_puzzle(puzzle):\n",
        "    for row in puzzle:\n",
        "        print(\" \".join(str(tile) for tile in row))\n",
        "    print()\n",
        "\n",
        "def solve_puzzle(start_puzzle):\n",
        "    size = len(start_puzzle)\n",
        "\n",
        "    if not is_solvable(start_puzzle):\n",
        "        print(\"The puzzle is not solvable.\")\n",
        "        return\n",
        "\n",
        "    start_blank_pos = next((r, c) for r, row in enumerate(start_puzzle) for c, tile in enumerate(row) if tile == 0)\n",
        "    start_node = Node(start_puzzle, start_blank_pos, 0, manhattan_distance(start_puzzle))\n",
        "\n",
        "    open_list = []\n",
        "    heapq.heappush(open_list, start_node)\n",
        "\n",
        "    closed_list = set()\n",
        "    closed_list.add(str(start_puzzle))\n",
        "\n",
        "    while open_list:\n",
        "        current_node = heapq.heappop(open_list)\n",
        "\n",
        "        if current_node.h == 0:\n",
        "            print_solution(current_node)\n",
        "            return\n",
        "\n",
        "        for neighbor in generate_moves(current_node):\n",
        "            state_str = str(neighbor.puzzle)\n",
        "            if state_str not in closed_list:\n",
        "                closed_list.add(state_str)\n",
        "                heapq.heappush(open_list, neighbor)\n",
        "\n",
        "    print(\"No solution found.\")\n",
        "\n",
        "def print_solution(node):\n",
        "    if node is None:\n",
        "        return\n",
        "    print_solution(node.parent)\n",
        "    print_puzzle(node.puzzle)\n",
        "\n",
        "if __name__ == \"__main__\":\n",
        "    puzzle = [\n",
        "        [1, 2, 3],\n",
        "        [4, 5, 6],\n",
        "        [7, 0, 8]\n",
        "    ]\n",
        "\n",
        "    solve_puzzle(puzzle)\n"
      ]
    }
  ]
}