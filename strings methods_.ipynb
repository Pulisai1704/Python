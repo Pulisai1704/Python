{
  "nbformat": 4,
  "nbformat_minor": 0,
  "metadata": {
    "colab": {
      "name": "strings .ipynb",
      "provenance": [],
      "authorship_tag": "ABX9TyMHqKjWCCVk3Nxo/70n5GGR",
      "include_colab_link": true
    },
    "kernelspec": {
      "name": "python3",
      "display_name": "Python 3"
    },
    "language_info": {
      "name": "python"
    }
  },
  "cells": [
    {
      "cell_type": "markdown",
      "metadata": {
        "id": "view-in-github",
        "colab_type": "text"
      },
      "source": [
        "<a href=\"https://colab.research.google.com/github/Pulisai1704/Python/blob/main/strings%20methods_.ipynb\" target=\"_parent\"><img src=\"https://colab.research.google.com/assets/colab-badge.svg\" alt=\"Open In Colab\"/></a>"
      ]
    },
    {
      "cell_type": "markdown",
      "source": [
        "## String Methods"
      ],
      "metadata": {
        "id": "T9ktxaVw3cEu"
      }
    },
    {
      "cell_type": "markdown",
      "source": [
        "## end switch"
      ],
      "metadata": {
        "id": "nKaz-dd25Omc"
      }
    },
    {
      "cell_type": "code",
      "source": [
        "## end switch method\n",
        "a= \"RRR, movie has been released.\"\n",
        "x = a.endswith(\".\")\n",
        "print(x)"
      ],
      "metadata": {
        "colab": {
          "base_uri": "https://localhost:8080/"
        },
        "id": "KSoXcm003ngx",
        "outputId": "9fe05885-f35b-4ae1-b985-d6dc6c6c4c0a"
      },
      "execution_count": 3,
      "outputs": [
        {
          "output_type": "stream",
          "name": "stdout",
          "text": [
            "True\n"
          ]
        }
      ]
    },
    {
      "cell_type": "code",
      "source": [
        "a= \"RRR, movie has been released!\"\n",
        "x = a.endswith(\".\")\n",
        "print(x)"
      ],
      "metadata": {
        "colab": {
          "base_uri": "https://localhost:8080/"
        },
        "id": "I0tXel5g4cKk",
        "outputId": "4f501068-074b-4b7c-abbe-ea81e03b7b58"
      },
      "execution_count": 5,
      "outputs": [
        {
          "output_type": "stream",
          "name": "stdout",
          "text": [
            "False\n"
          ]
        }
      ]
    },
    {
      "cell_type": "code",
      "source": [
        "a= \"RRR, movie has been released!\"\n",
        "x = a.endswith(\"!\")\n",
        "print(x)"
      ],
      "metadata": {
        "id": "-ybcKuJy4pQm"
      },
      "execution_count": null,
      "outputs": []
    },
    {
      "cell_type": "code",
      "source": [
        "a = \"Hello, welcome to my world.\"\n",
        "x = a.endswith(\"my world,\")\n",
        "print(x)"
      ],
      "metadata": {
        "colab": {
          "base_uri": "https://localhost:8080/"
        },
        "id": "kyVSF3LD46RS",
        "outputId": "d84c0b2c-6755-4aa7-bc4c-3d2c48ad5a17"
      },
      "execution_count": 8,
      "outputs": [
        {
          "output_type": "stream",
          "name": "stdout",
          "text": [
            "False\n"
          ]
        }
      ]
    },
    {
      "cell_type": "markdown",
      "source": [
        "## expand tabs"
      ],
      "metadata": {
        "id": "yF03_kMA5uuT"
      }
    },
    {
      "cell_type": "code",
      "source": [
        "a = \"H\\te\\tl\\tl\\to\"\n",
        "print(a)\n",
        "print(a.expandtabs())\n",
        "print(a.expandtabs(2))\n",
        "print(a.expandtabs(4))\n",
        "print(a.expandtabs(10))"
      ],
      "metadata": {
        "colab": {
          "base_uri": "https://localhost:8080/"
        },
        "id": "UxFm2Ps35tKB",
        "outputId": "123950b2-3ba2-4c5a-e2cd-a3814ce50d42"
      },
      "execution_count": 12,
      "outputs": [
        {
          "output_type": "stream",
          "name": "stdout",
          "text": [
            "H\te\tl\tl\to\n",
            "H       e       l       l       o\n",
            "H e l l o\n",
            "H   e   l   l   o\n",
            "H         e         l         l         o\n"
          ]
        }
      ]
    },
    {
      "cell_type": "code",
      "source": [
        "a = \"a\\tp\\tp\\tl\\te\"\n",
        "x =  a.expandtabs(2)\n",
        "print(x)\n",
        "x =  a.expandtabs(4)\n",
        "print(x)\n",
        "x =  a.expandtabs(6)\n",
        "print(x)"
      ],
      "metadata": {
        "colab": {
          "base_uri": "https://localhost:8080/"
        },
        "id": "3VFKu00S6ekl",
        "outputId": "c701f329-7295-478c-b401-8118c06b185a"
      },
      "execution_count": 15,
      "outputs": [
        {
          "output_type": "stream",
          "name": "stdout",
          "text": [
            "a p p l e\n",
            "a   p   p   l   e\n",
            "a     p     p     l     e\n"
          ]
        }
      ]
    },
    {
      "cell_type": "markdown",
      "source": [
        "## find "
      ],
      "metadata": {
        "id": "gsApsPub7f1A"
      }
    },
    {
      "cell_type": "code",
      "source": [
        "a = \"i, am driving tractor.\"\n",
        "x = a.find(\"driving\")\n",
        "print(x)"
      ],
      "metadata": {
        "colab": {
          "base_uri": "https://localhost:8080/"
        },
        "id": "5zMrgS9T7eLw",
        "outputId": "66ffd6e2-949b-4427-9862-48413c9b42b7"
      },
      "execution_count": 18,
      "outputs": [
        {
          "output_type": "stream",
          "name": "stdout",
          "text": [
            "6\n"
          ]
        }
      ]
    }
  ]
}