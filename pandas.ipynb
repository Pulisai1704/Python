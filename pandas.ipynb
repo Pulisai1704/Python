{
  "cells": [
    {
      "cell_type": "markdown",
      "metadata": {
        "id": "view-in-github",
        "colab_type": "text"
      },
      "source": [
        "<a href=\"https://colab.research.google.com/github/Pulisai1704/Python/blob/main/pandas.ipynb\" target=\"_parent\"><img src=\"https://colab.research.google.com/assets/colab-badge.svg\" alt=\"Open In Colab\"/></a>"
      ]
    },
    {
      "cell_type": "code",
      "execution_count": null,
      "id": "27d9046d-57cb-4da3-b9b4-d35118604bdd",
      "metadata": {
        "id": "27d9046d-57cb-4da3-b9b4-d35118604bdd",
        "outputId": "ba0f34bc-82b1-48c4-b3f2-226a0ef91578"
      },
      "outputs": [
        {
          "data": {
            "text/plain": [
              "'1.3.4'"
            ]
          },
          "execution_count": 4,
          "metadata": {},
          "output_type": "execute_result"
        }
      ],
      "source": [
        "import pandas \n",
        "\n",
        "pandas.__version__\n"
      ]
    },
    {
      "cell_type": "code",
      "execution_count": null,
      "id": "87fbe024-295c-4dbb-97c5-f69a6b6eb691",
      "metadata": {
        "id": "87fbe024-295c-4dbb-97c5-f69a6b6eb691",
        "outputId": "0ce290e6-3177-425e-8796-f3762e5822b4"
      },
      "outputs": [
        {
          "name": "stdout",
          "output_type": "stream",
          "text": [
            "     bike  passings\n",
            "0  pulsar         3\n",
            "1  unicon         7\n",
            "2  glamer         2\n"
          ]
        }
      ],
      "source": [
        "import pandas as pd\n",
        "\n",
        "mydataset = {\n",
        "  'bike': [\"pulsar\", \"unicon\", \"glamer\"],\n",
        "  'passings': [3, 7, 2]\n",
        "}\n",
        "\n",
        "myvar = pd.DataFrame(mydataset)\n",
        "\n",
        "print(myvar)\n"
      ]
    },
    {
      "cell_type": "code",
      "execution_count": null,
      "id": "a6696702-bc8c-4437-93eb-b3cb5883cb85",
      "metadata": {
        "id": "a6696702-bc8c-4437-93eb-b3cb5883cb85",
        "outputId": "08dc55ba-30e5-42e1-81a3-74e857a496a7"
      },
      "outputs": [
        {
          "name": "stdout",
          "output_type": "stream",
          "text": [
            "    tracors  passings\n",
            "0    swaraj         4\n",
            "1    kubota         8\n",
            "2  sonalika         3\n"
          ]
        }
      ],
      "source": [
        "import pandas\n",
        "\n",
        "mydataset = {\n",
        "  'tracors': [\"swaraj\", \"kubota\", \"sonalika\"],\n",
        "  'passings': [4, 8, 3]\n",
        "}\n",
        "\n",
        "myvar = pandas.DataFrame(mydataset)\n",
        "\n",
        "print(myvar)\n"
      ]
    },
    {
      "cell_type": "code",
      "execution_count": null,
      "id": "caa17c5f-f50f-4b93-81e0-6b384bfd1e85",
      "metadata": {
        "id": "caa17c5f-f50f-4b93-81e0-6b384bfd1e85"
      },
      "outputs": [],
      "source": [
        ""
      ]
    }
  ],
  "metadata": {
    "kernelspec": {
      "display_name": "Python 3 (ipykernel)",
      "language": "python",
      "name": "python3"
    },
    "language_info": {
      "codemirror_mode": {
        "name": "ipython",
        "version": 3
      },
      "file_extension": ".py",
      "mimetype": "text/x-python",
      "name": "python",
      "nbconvert_exporter": "python",
      "pygments_lexer": "ipython3",
      "version": "3.9.7"
    },
    "colab": {
      "name": "pandas.ipynb",
      "provenance": [],
      "include_colab_link": true
    }
  },
  "nbformat": 4,
  "nbformat_minor": 5
}