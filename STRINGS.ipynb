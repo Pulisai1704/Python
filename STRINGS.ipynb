{
  "nbformat": 4,
  "nbformat_minor": 0,
  "metadata": {
    "colab": {
      "name": "STRINGS.ipynb",
      "provenance": [],
      "authorship_tag": "ABX9TyNc2ysjfYsGXCoDW36OM+Ss",
      "include_colab_link": true
    },
    "kernelspec": {
      "name": "python3",
      "display_name": "Python 3"
    },
    "language_info": {
      "name": "python"
    }
  },
  "cells": [
    {
      "cell_type": "markdown",
      "metadata": {
        "id": "view-in-github",
        "colab_type": "text"
      },
      "source": [
        "<a href=\"https://colab.research.google.com/github/Pulisai1704/Python/blob/main/STRINGS.ipynb\" target=\"_parent\"><img src=\"https://colab.research.google.com/assets/colab-badge.svg\" alt=\"Open In Colab\"/></a>"
      ]
    },
    {
      "cell_type": "markdown",
      "source": [
        "## Modify Strings"
      ],
      "metadata": {
        "id": "WKltmT_3YO5g"
      }
    },
    {
      "cell_type": "markdown",
      "source": [
        "## upper and lower"
      ],
      "metadata": {
        "id": "kY_bPI4GbwZn"
      }
    },
    {
      "cell_type": "code",
      "execution_count": 5,
      "metadata": {
        "colab": {
          "base_uri": "https://localhost:8080/",
          "height": 0
        },
        "id": "1PCT1qf3Wskc",
        "outputId": "9caa2842-e42b-47d3-c787-32c1347e8815"
      },
      "outputs": [
        {
          "output_type": "stream",
          "name": "stdout",
          "text": [
            "RRR MOVIE HAS BEEN REALESED\n",
            "rrr movie has been realesed\n"
          ]
        }
      ],
      "source": [
        "a=\"rrr movie has been realesed\"\n",
        "print(a.upper())\n",
        "b=\"rrr movie has been realesed\"\n",
        "print(b.lower())"
      ]
    },
    {
      "cell_type": "markdown",
      "source": [
        "## Remove Whitespace"
      ],
      "metadata": {
        "id": "pr-zmlyraTwH"
      }
    },
    {
      "cell_type": "code",
      "source": [
        "a=\"  rrr movie has been realesed   \"\n",
        "print(a.strip())"
      ],
      "metadata": {
        "colab": {
          "base_uri": "https://localhost:8080/",
          "height": 0
        },
        "id": "vc40amNPZhH2",
        "outputId": "d8f51087-a531-4176-f3ea-24bd049e4ed2"
      },
      "execution_count": 7,
      "outputs": [
        {
          "output_type": "stream",
          "name": "stdout",
          "text": [
            "rrr movie has been realesed\n"
          ]
        }
      ]
    },
    {
      "cell_type": "markdown",
      "source": [
        "## replace String"
      ],
      "metadata": {
        "id": "J88mw8PlaXso"
      }
    },
    {
      "cell_type": "code",
      "source": [
        "a=\"RRR movie has been realesed\"\n",
        "print(a.replace(\"RRR\", \"RADHE\"))\n",
        "print(a)\n",
        "print(a.replace(\"a\", \"i\"))"
      ],
      "metadata": {
        "colab": {
          "base_uri": "https://localhost:8080/",
          "height": 0
        },
        "id": "Tv0CWSOlaWt_",
        "outputId": "8362c63d-f686-41e7-c669-af181eb4db88"
      },
      "execution_count": 11,
      "outputs": [
        {
          "output_type": "stream",
          "name": "stdout",
          "text": [
            "RADHE movie has been realesed\n",
            "RRR movie has been realesed\n",
            "RRR movie his been reilesed\n"
          ]
        }
      ]
    },
    {
      "cell_type": "markdown",
      "source": [
        "## Split String"
      ],
      "metadata": {
        "id": "KlDAwW6rcT0-"
      }
    },
    {
      "cell_type": "code",
      "source": [
        "a=\"RRR movie has been realesed\"\n",
        "print(a.split())\n",
        "b=\"i will go to college\"\n",
        "print(b.split())\n",
        "c=\"RRR, movie has been realesed\"\n",
        "print(c.split(\",\"))"
      ],
      "metadata": {
        "colab": {
          "base_uri": "https://localhost:8080/",
          "height": 0
        },
        "id": "gclkomcYb0kP",
        "outputId": "def86d7b-24b3-4b2e-a697-adf95be73990"
      },
      "execution_count": 16,
      "outputs": [
        {
          "output_type": "stream",
          "name": "stdout",
          "text": [
            "['RRR', 'movie', 'has', 'been', 'realesed']\n",
            "['i', 'will', 'go', 'to', 'college']\n",
            "['RRR', ' movie has been realesed']\n"
          ]
        }
      ]
    },
    {
      "cell_type": "markdown",
      "source": [
        "## String Concatenation"
      ],
      "metadata": {
        "id": "hEBPsdzjd0eu"
      }
    },
    {
      "cell_type": "code",
      "source": [
        "a=\"RRR movie has been realesed\"\n",
        "b=\"i will go to college\"\n",
        "c = a + \" \" + b\n",
        "#print(c)\n",
        "#print(\"% a % b\" %(a,b))\n",
        "a=123\n",
        "b=\"hello {}\"\n",
        "print(b.format(a,b))"
      ],
      "metadata": {
        "colab": {
          "base_uri": "https://localhost:8080/",
          "height": 0
        },
        "id": "02IyFpz7dw9P",
        "outputId": "fd13d837-4e1d-422c-96c8-8d15a73540eb"
      },
      "execution_count": 26,
      "outputs": [
        {
          "output_type": "stream",
          "name": "stdout",
          "text": [
            "hello 123\n"
          ]
        }
      ]
    },
    {
      "cell_type": "code",
      "source": [
        "price=300\n",
        "quantity=3\n",
        "item=1\n",
        "name=\"thumsup\"\n",
        "myorder=\"i buyed {3} with {0} having {1} and purchased {2}\"\n",
        "print(myorder.format(price,quantity,item,name,))"
      ],
      "metadata": {
        "colab": {
          "base_uri": "https://localhost:8080/",
          "height": 0
        },
        "id": "14Jhdlj_fPd2",
        "outputId": "dc9f6601-23be-48f3-dfb1-e04b571e4db7"
      },
      "execution_count": 36,
      "outputs": [
        {
          "output_type": "stream",
          "name": "stdout",
          "text": [
            "i buyed thumsup with 300 having 3 and purchased 1\n"
          ]
        }
      ]
    },
    {
      "cell_type": "code",
      "source": [
        "sub1=int(input(\"enter the maths marks\"))\n",
        "sub2=int(input(\"enter the physics marks\"))\n",
        "sub3=int(input(\"enter the chemistry marks\"))\n",
        "sub4=int(input(\"enter the computer marks\"))\n",
        "marks=\"my maths marks are{0}, physics  marks are{1}, chemistry marks are{2},computer  marks are{3}\"\n",
        "print(marks.format(sub1,sub2,sub3,sub4))\n"
      ],
      "metadata": {
        "colab": {
          "base_uri": "https://localhost:8080/",
          "height": 0
        },
        "id": "tFrymeLsj3H0",
        "outputId": "1bdda715-4788-4f24-9133-abda4143d70f"
      },
      "execution_count": 41,
      "outputs": [
        {
          "output_type": "stream",
          "name": "stdout",
          "text": [
            "enter the maths marks95\n",
            "enter the physics marks6\n",
            "enter the chemistry marks92\n",
            "enter the computer marks94\n",
            "my maths marks are95, physics  marks are6, chemistry marks are92,computer  marks are94\n"
          ]
        }
      ]
    },
    {
      "cell_type": "markdown",
      "source": [
        "## Escape Characters\n"
      ],
      "metadata": {
        "id": "sJ35yQQvmiGF"
      }
    },
    {
      "cell_type": "code",
      "source": [
        "a=\"hello sai \\\"hi\\\"\"\n",
        "print(a)\n",
        "b=\"hey kiran \\\\hello\"\n",
        "print(b)\n",
        "c=\"hello \\nmani\"\n",
        "print(c)\n",
        "d=\"hello \\tvenkey\"\n",
        "print(d)"
      ],
      "metadata": {
        "colab": {
          "base_uri": "https://localhost:8080/",
          "height": 0
        },
        "id": "DhaF7qXxmaA0",
        "outputId": "e80afae0-9d9b-4486-e261-3fc0862440c3"
      },
      "execution_count": 43,
      "outputs": [
        {
          "output_type": "stream",
          "name": "stdout",
          "text": [
            "hello sai \"hi\"\n",
            "hey kiran \\hello\n",
            "hello \n",
            "mani\n",
            "hello \tvenkey\n"
          ]
        }
      ]
    },
    {
      "cell_type": "code",
      "source": [
        "c=\"hello\\bsai\"\n",
        "print(c)"
      ],
      "metadata": {
        "colab": {
          "base_uri": "https://localhost:8080/",
          "height": 0
        },
        "id": "jF-_ZYrsnTS2",
        "outputId": "b7c97322-2467-4a0d-cb3c-95c97608204f"
      },
      "execution_count": 45,
      "outputs": [
        {
          "output_type": "stream",
          "name": "stdout",
          "text": [
            "hello\bsai\n"
          ]
        }
      ]
    },
    {
      "cell_type": "code",
      "source": [
        "a=\"\\110\\145\\154\\157\"\n",
        "print(a)"
      ],
      "metadata": {
        "colab": {
          "base_uri": "https://localhost:8080/",
          "height": 0
        },
        "id": "NMVGbaaeo3RE",
        "outputId": "f36ae698-e9d9-47da-918e-b139d1f5e6f3"
      },
      "execution_count": 49,
      "outputs": [
        {
          "output_type": "stream",
          "name": "stdout",
          "text": [
            "Helo\n"
          ]
        }
      ]
    },
    {
      "cell_type": "markdown",
      "source": [
        "## String Methods"
      ],
      "metadata": {
        "id": "sNvF9AqWoOgl"
      }
    },
    {
      "cell_type": "code",
      "source": [
        "## first character to upper\n",
        "a=\"sai\"\n",
        "b=a.capitalize()\n",
        "print(b)"
      ],
      "metadata": {
        "colab": {
          "base_uri": "https://localhost:8080/",
          "height": 0
        },
        "id": "wrh6iry5oP5M",
        "outputId": "37a9e8db-f50b-4b94-df93-8b1ca6dac115"
      },
      "execution_count": 53,
      "outputs": [
        {
          "output_type": "stream",
          "name": "stdout",
          "text": [
            "Sai\n"
          ]
        }
      ]
    },
    {
      "cell_type": "code",
      "source": [
        "## first character to lower\n",
        "a=\"Sai\"\n",
        "b=a.casefold()\n",
        "print(b)"
      ],
      "metadata": {
        "colab": {
          "base_uri": "https://localhost:8080/",
          "height": 0
        },
        "id": "KMQ9nEZKrAV8",
        "outputId": "634dde7e-6674-466f-dd03-2926dafc3cd1"
      },
      "execution_count": 54,
      "outputs": [
        {
          "output_type": "stream",
          "name": "stdout",
          "text": [
            "sai\n"
          ]
        }
      ]
    },
    {
      "cell_type": "code",
      "source": [
        "## size\n",
        "a=\"sai\"\n",
        "b=a.center(30)\n",
        "print(b)"
      ],
      "metadata": {
        "colab": {
          "base_uri": "https://localhost:8080/",
          "height": 0
        },
        "id": "mvGzvAklrg2j",
        "outputId": "23681758-0506-48b5-928a-6dcd3ceae045"
      },
      "execution_count": 56,
      "outputs": [
        {
          "output_type": "stream",
          "name": "stdout",
          "text": [
            "             sai              \n"
          ]
        }
      ]
    },
    {
      "cell_type": "code",
      "source": [
        "## count\n",
        "a=\"hello world welcome to my world\"\n",
        "b=a.count(\"\")\n",
        "print(b)\n",
        "print(len(a))"
      ],
      "metadata": {
        "colab": {
          "base_uri": "https://localhost:8080/",
          "height": 0
        },
        "id": "nI1ZF8aJrvF8",
        "outputId": "976a1dc7-0062-4f63-96f1-ce215416a684"
      },
      "execution_count": 58,
      "outputs": [
        {
          "output_type": "stream",
          "name": "stdout",
          "text": [
            "32\n",
            "31\n"
          ]
        }
      ]
    },
    {
      "cell_type": "code",
      "source": [
        "## encode\n",
        "a = \"My name is Sai\"\n",
        "x = a.encode()\n",
        "print(x)"
      ],
      "metadata": {
        "colab": {
          "base_uri": "https://localhost:8080/",
          "height": 0
        },
        "id": "7MM_t_7kslX7",
        "outputId": "c023bb93-ec0a-4cc4-d6cc-072981404c7f"
      },
      "execution_count": 59,
      "outputs": [
        {
          "output_type": "stream",
          "name": "stdout",
          "text": [
            "b'My name is Sai'\n"
          ]
        }
      ]
    }
  ]
}