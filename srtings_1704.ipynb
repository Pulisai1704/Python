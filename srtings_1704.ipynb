{
  "nbformat": 4,
  "nbformat_minor": 0,
  "metadata": {
    "colab": {
      "name": "srtings 1704.ipynb",
      "provenance": [],
      "authorship_tag": "ABX9TyPeAGBgY9JETE7vNcJKa2BB",
      "include_colab_link": true
    },
    "kernelspec": {
      "name": "python3",
      "display_name": "Python 3"
    },
    "language_info": {
      "name": "python"
    }
  },
  "cells": [
    {
      "cell_type": "markdown",
      "metadata": {
        "id": "view-in-github",
        "colab_type": "text"
      },
      "source": [
        "<a href=\"https://colab.research.google.com/github/Pulisai1704/Python/blob/main/srtings_1704.ipynb\" target=\"_parent\"><img src=\"https://colab.research.google.com/assets/colab-badge.svg\" alt=\"Open In Colab\"/></a>"
      ]
    },
    {
      "cell_type": "code",
      "execution_count": null,
      "metadata": {
        "id": "zdh_UBDw6uqz"
      },
      "outputs": [],
      "source": [
        ""
      ]
    },
    {
      "cell_type": "markdown",
      "source": [
        "## STRINGS"
      ],
      "metadata": {
        "id": "g_H3NJDP6vue"
      }
    },
    {
      "cell_type": "code",
      "source": [
        "a=\"Sai\"\n",
        "print(a)\n",
        "print(type(a))\n",
        "print(a[1])\n",
        "print(a[2])"
      ],
      "metadata": {
        "colab": {
          "base_uri": "https://localhost:8080/"
        },
        "id": "C5tT1zwe6yI_",
        "outputId": "bb16ea51-89e1-42fb-f436-b7019e5437aa"
      },
      "execution_count": 5,
      "outputs": [
        {
          "output_type": "stream",
          "name": "stdout",
          "text": [
            "Sai\n",
            "<class 'str'>\n",
            "a\n",
            "i\n"
          ]
        }
      ]
    },
    {
      "cell_type": "markdown",
      "source": [
        "## length of the string"
      ],
      "metadata": {
        "id": "B3a1D1MZ8AbU"
      }
    },
    {
      "cell_type": "code",
      "source": [
        "a=\"hello Sai\"\n",
        "print(len(a))"
      ],
      "metadata": {
        "colab": {
          "base_uri": "https://localhost:8080/"
        },
        "id": "M5i7gDM_7VZK",
        "outputId": "72916779-def5-40b6-f34e-d2be23665be6"
      },
      "execution_count": 9,
      "outputs": [
        {
          "output_type": "stream",
          "name": "stdout",
          "text": [
            "9\n"
          ]
        }
      ]
    },
    {
      "cell_type": "code",
      "source": [
        "a=\"RRR movie has been realesed\"\n",
        "print(\"RRR\"in a)\n",
        "print(len(a))\n",
        "print(\"RF\"in a)"
      ],
      "metadata": {
        "colab": {
          "base_uri": "https://localhost:8080/"
        },
        "id": "-gI4v1Fk8sXT",
        "outputId": "57887688-2eff-4f8f-c94a-6ef57ffa9c1e"
      },
      "execution_count": 14,
      "outputs": [
        {
          "output_type": "stream",
          "name": "stdout",
          "text": [
            "True\n",
            "27\n",
            "False\n"
          ]
        }
      ]
    },
    {
      "cell_type": "markdown",
      "source": [
        "## boolean of string"
      ],
      "metadata": {
        "id": "SJHAV2wW-Eav"
      }
    },
    {
      "cell_type": "code",
      "source": [
        "a=\"RRR movie has been realesed\"\n",
        "print(\"RRR\" not in a)"
      ],
      "metadata": {
        "colab": {
          "base_uri": "https://localhost:8080/"
        },
        "id": "d65nTu6o9KOO",
        "outputId": "c74c8ccf-9f81-4e3a-bfbd-3b0377b80e7b"
      },
      "execution_count": 16,
      "outputs": [
        {
          "output_type": "stream",
          "name": "stdout",
          "text": [
            "False\n"
          ]
        }
      ]
    },
    {
      "cell_type": "code",
      "source": [
        "a=\"RRR movie has been realesed\"\n",
        "print(a[2:5])"
      ],
      "metadata": {
        "colab": {
          "base_uri": "https://localhost:8080/"
        },
        "id": "Rq4G6pWm9zLc",
        "outputId": "362bd9a1-0856-44f0-93a3-47326c316c51"
      },
      "execution_count": 18,
      "outputs": [
        {
          "output_type": "stream",
          "name": "stdout",
          "text": [
            "R m\n"
          ]
        }
      ]
    },
    {
      "cell_type": "code",
      "source": [
        ""
      ],
      "metadata": {
        "id": "fdJi_T_i-BNg"
      },
      "execution_count": null,
      "outputs": []
    }
  ]
}