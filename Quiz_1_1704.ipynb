{
  "nbformat": 4,
  "nbformat_minor": 0,
  "metadata": {
    "colab": {
      "name": "Quiz-1  1704.ipynb",
      "provenance": [],
      "authorship_tag": "ABX9TyM9Ytf8gf1qv26pV2gdilFE",
      "include_colab_link": true
    },
    "kernelspec": {
      "name": "python3",
      "display_name": "Python 3"
    },
    "language_info": {
      "name": "python"
    }
  },
  "cells": [
    {
      "cell_type": "markdown",
      "metadata": {
        "id": "view-in-github",
        "colab_type": "text"
      },
      "source": [
        "<a href=\"https://colab.research.google.com/github/Pulisai1704/Python/blob/main/Quiz_1_1704.ipynb\" target=\"_parent\"><img src=\"https://colab.research.google.com/assets/colab-badge.svg\" alt=\"Open In Colab\"/></a>"
      ]
    },
    {
      "cell_type": "markdown",
      "source": [
        "## Quiz-1"
      ],
      "metadata": {
        "id": "2Ue1TL_CsbVk"
      }
    },
    {
      "cell_type": "code",
      "source": [
        "## Add Black color to the given list in the 4th place."
      ],
      "metadata": {
        "id": "U6V5J67dsxT1"
      },
      "execution_count": 3,
      "outputs": []
    },
    {
      "cell_type": "code",
      "source": [
        "Rainbow = [\"Red\",\"Orange\",\"Yellow\",\"Green\"]\n",
        "Rainbow . insert(3,\"Black\")\n",
        "print(Rainbow)"
      ],
      "metadata": {
        "colab": {
          "base_uri": "https://localhost:8080/",
          "height": 0
        },
        "id": "Ifwmg3YTs-Oc",
        "outputId": "3dc3fa1f-f52c-4c5e-9e4b-03689986ee09"
      },
      "execution_count": 4,
      "outputs": [
        {
          "output_type": "stream",
          "name": "stdout",
          "text": [
            "['Red', 'Orange', 'Yellow', 'Black', 'Green']\n"
          ]
        }
      ]
    },
    {
      "cell_type": "code",
      "source": [
        "## Find out the square root of the number"
      ],
      "metadata": {
        "id": "HSn5KgVqtJhT"
      },
      "execution_count": 5,
      "outputs": []
    },
    {
      "cell_type": "code",
      "source": [
        "a=4\n",
        "b=a**1/2\n",
        "print(b)"
      ],
      "metadata": {
        "colab": {
          "base_uri": "https://localhost:8080/",
          "height": 0
        },
        "id": "2SZIxpUttQR8",
        "outputId": "0e1f54ff-f8a1-4f26-ffea-48d48bfd42e4"
      },
      "execution_count": 6,
      "outputs": [
        {
          "output_type": "stream",
          "name": "stdout",
          "text": [
            "2.0\n"
          ]
        }
      ]
    },
    {
      "cell_type": "code",
      "source": [
        "## Write a program of swapping of two numbers"
      ],
      "metadata": {
        "id": "aOT8Z_E8tU2s"
      },
      "execution_count": 7,
      "outputs": []
    },
    {
      "cell_type": "code",
      "source": [
        "a=3\n",
        "b=2\n",
        "c=a+b\n",
        "b=c-a\n",
        "a=c-b\n",
        "print(\"Result =\",a,b)"
      ],
      "metadata": {
        "colab": {
          "base_uri": "https://localhost:8080/",
          "height": 0
        },
        "id": "aFpoUihUtZu0",
        "outputId": "9afcb0d1-2374-47f9-ae69-3cb039bd1723"
      },
      "execution_count": 8,
      "outputs": [
        {
          "output_type": "stream",
          "name": "stdout",
          "text": [
            "Result = 3 2\n"
          ]
        }
      ]
    },
    {
      "cell_type": "code",
      "source": [
        "## Find out the Largest of three numbers from the give input"
      ],
      "metadata": {
        "id": "w_IEm0XHteCk"
      },
      "execution_count": 9,
      "outputs": []
    },
    {
      "cell_type": "code",
      "source": [
        "a=5\n",
        "b=3\n",
        "c=2\n",
        "if a>b and a>c:\n",
        "              print(a)\n",
        "elif b>a and b>c:\n",
        "                print(b)\n",
        "else:\n",
        "    print(c)"
      ],
      "metadata": {
        "colab": {
          "base_uri": "https://localhost:8080/",
          "height": 0
        },
        "id": "-7Y4zZMHtnH7",
        "outputId": "27452ecf-3e11-4f8a-97f8-3690d2cfb58e"
      },
      "execution_count": 10,
      "outputs": [
        {
          "output_type": "stream",
          "name": "stdout",
          "text": [
            "5\n"
          ]
        }
      ]
    },
    {
      "cell_type": "code",
      "source": [
        ""
      ],
      "metadata": {
        "id": "51ZyydNBtrNb"
      },
      "execution_count": null,
      "outputs": []
    }
  ]
}