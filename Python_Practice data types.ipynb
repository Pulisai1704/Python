{
  "nbformat": 4,
  "nbformat_minor": 0,
  "metadata": {
    "colab": {
      "name": "Python_Practice.ipynb",
      "provenance": [],
      "include_colab_link": true
    },
    "kernelspec": {
      "name": "python3",
      "display_name": "Python 3"
    },
    "language_info": {
      "name": "python"
    }
  },
  "cells": [
    {
      "cell_type": "markdown",
      "metadata": {
        "id": "view-in-github",
        "colab_type": "text"
      },
      "source": [
        "<a href=\"https://colab.research.google.com/github/Pulisai1704/Python/blob/main/Python_Practice%20data%20types.ipynb\" target=\"_parent\"><img src=\"https://colab.research.google.com/assets/colab-badge.svg\" alt=\"Open In Colab\"/></a>"
      ]
    },
    {
      "cell_type": "code",
      "execution_count": null,
      "metadata": {
        "colab": {
          "base_uri": "https://localhost:8080/"
        },
        "id": "4cMWY9b8IXBu",
        "outputId": "0ec98959-9da1-4d29-b8cb-f4139541e8a7"
      },
      "outputs": [
        {
          "output_type": "stream",
          "name": "stdout",
          "text": [
            "15.0\n"
          ]
        }
      ],
      "source": [
        "a=10\n",
        "b=20\n",
        "c=(a+b)/2\n",
        "print(c)\n",
        "print"
      ]
    },
    {
      "cell_type": "code",
      "source": [
        "# converting int to string,float,boolean,complex \n",
        "\n",
        "Code cell <undefined>\n",
        "#%% [code]\n",
        "a=10\n",
        "print(type(a))\n",
        "print(a)\n",
        "#before conversion\n",
        "b=str(a)\n",
        "print(type(b))\n",
        "print(b)\n",
        "#after conversion\n",
        "c=float(a)\n",
        "print(type(c))\n",
        "print(c)\n",
        "d=bool(a)\n",
        "print(d)\n",
        "print(type(d))\n",
        "e=complex(a)\n",
        "print(e)\n",
        "print(type(e))\n"
      ],
      "metadata": {
        "colab": {
          "base_uri": "https://localhost:8080/"
        },
        "id": "zzCxGsowp-zG",
        "outputId": "5f7bb963-4344-4f32-beea-e71bdb3ffa1b"
      },
      "execution_count": null,
      "outputs": [
        {
          "output_type": "stream",
          "name": "stdout",
          "text": [
            "<class 'int'>\n",
            "10\n",
            "<class 'str'>\n",
            "10\n",
            "<class 'float'>\n",
            "10.0\n",
            "True\n",
            "<class 'bool'>\n",
            "(10+0j)\n",
            "<class 'complex'>\n"
          ]
        }
      ]
    },
    {
      "cell_type": "code",
      "source": [
        "# converting string to int , float , bollean ,complex\n",
        "\n",
        "Code cell <undefined>\n",
        "#%% [code]\n",
        "a=10\n",
        "print(type(a))\n",
        "print(a)\n",
        "#before conversion\n",
        "b=int(a)\n",
        "print(type(b))\n",
        "print(b)\n",
        "#after conversion\n",
        "c=float(a)\n",
        "print(type(c))\n",
        "print(c)\n",
        "d=bool(a)\n",
        "print(d)\n",
        "print(type(d))\n",
        "e=complex(a)\n",
        "print(e)\n",
        "print(type(e))"
      ],
      "metadata": {
        "id": "4kxrdpT-ua6_"
      },
      "execution_count": null,
      "outputs": []
    },
    {
      "cell_type": "code",
      "source": [
        "# converting boolean to int , string , float ,complex\n",
        "\n",
        "Code cell <undefined>\n",
        "#%% [code]\n",
        "a=10\n",
        "print(type(a))\n",
        "print(a)\n",
        "#before conversion\n",
        "b=int(a)\n",
        "print(type(b))\n",
        "print(b)\n",
        "#after conversion\n",
        "c=str(a)\n",
        "print(type(c))\n",
        "print(c)\n",
        "d=float(a)\n",
        "print(d)\n",
        "print(type(d))\n",
        "e=complex(a)\n",
        "print(e)\n",
        "print(type(e))"
      ],
      "metadata": {
        "id": "wPV_Cn_Nub8M"
      },
      "execution_count": null,
      "outputs": []
    }
  ]
}