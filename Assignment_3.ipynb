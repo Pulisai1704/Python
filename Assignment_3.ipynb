{
  "nbformat": 4,
  "nbformat_minor": 0,
  "metadata": {
    "colab": {
      "name": "Assignment - 3.ipynb",
      "provenance": [],
      "authorship_tag": "ABX9TyPm0Y5REYanxe9U9q14A4tk",
      "include_colab_link": true
    },
    "kernelspec": {
      "name": "python3",
      "display_name": "Python 3"
    },
    "language_info": {
      "name": "python"
    }
  },
  "cells": [
    {
      "cell_type": "markdown",
      "metadata": {
        "id": "view-in-github",
        "colab_type": "text"
      },
      "source": [
        "<a href=\"https://colab.research.google.com/github/Pulisai1704/Python/blob/main/Assignment_3.ipynb\" target=\"_parent\"><img src=\"https://colab.research.google.com/assets/colab-badge.svg\" alt=\"Open In Colab\"/></a>"
      ]
    },
    {
      "cell_type": "markdown",
      "source": [
        "## 1)write a python program to find power of number with recursion and without recursion(input n=2 , p=3)"
      ],
      "metadata": {
        "id": "UU4EZatTkUgg"
      }
    },
    {
      "cell_type": "code",
      "execution_count": 3,
      "metadata": {
        "colab": {
          "base_uri": "https://localhost:8080/",
          "height": 0
        },
        "id": "hhZbGjWYjf8b",
        "outputId": "a110e0f0-5195-43f3-855d-af6d35772b88"
      },
      "outputs": [
        {
          "output_type": "stream",
          "name": "stdout",
          "text": [
            "Enter a: 2\n",
            "Enter exponential value: 3\n",
            "Result: 4\n"
          ]
        }
      ],
      "source": [
        "def power(a,b):\n",
        "    if(b==1):\n",
        "        return(b)\n",
        "    if(b!=1):\n",
        "        return(a*power(a,b-1))\n",
        "a=int(input(\"Enter a: \"))\n",
        "b=int(input(\"Enter exponential value: \"))\n",
        "print(\"Result:\",power(a,b))\n"
      ]
    },
    {
      "cell_type": "code",
      "source": [
        "##without recursion\n",
        "##print(\"without recursion=\",x**y)\n",
        "def pwr(x,y):\n",
        "  z=1\n",
        "  if y>1:\n",
        "    z=x*pwr(x,y-1)\n",
        "    return z\n",
        "  else:\n",
        "      return x\n",
        "a,b=map(int,input().split())\n",
        "#pwr(a,b)\n",
        "r=pwr(a,b)\n",
        "print(\"without recursion=\",r)\n",
        "\n"
      ],
      "metadata": {
        "colab": {
          "base_uri": "https://localhost:8080/",
          "height": 252
        },
        "id": "DNClEiUBm1VG",
        "outputId": "71e3b36e-bc0b-413c-c6b6-e03738f48cc4"
      },
      "execution_count": 14,
      "outputs": [
        {
          "name": "stdout",
          "output_type": "stream",
          "text": [
            "2\n"
          ]
        },
        {
          "output_type": "error",
          "ename": "ValueError",
          "evalue": "ignored",
          "traceback": [
            "\u001b[0;31m---------------------------------------------------------------------------\u001b[0m",
            "\u001b[0;31mValueError\u001b[0m                                Traceback (most recent call last)",
            "\u001b[0;32m<ipython-input-14-9b20a2e78206>\u001b[0m in \u001b[0;36m<module>\u001b[0;34m()\u001b[0m\n\u001b[1;32m      8\u001b[0m   \u001b[0;32melse\u001b[0m\u001b[0;34m:\u001b[0m\u001b[0;34m\u001b[0m\u001b[0;34m\u001b[0m\u001b[0m\n\u001b[1;32m      9\u001b[0m       \u001b[0;32mreturn\u001b[0m \u001b[0mx\u001b[0m\u001b[0;34m\u001b[0m\u001b[0;34m\u001b[0m\u001b[0m\n\u001b[0;32m---> 10\u001b[0;31m \u001b[0ma\u001b[0m\u001b[0;34m,\u001b[0m\u001b[0mb\u001b[0m\u001b[0;34m=\u001b[0m\u001b[0mmap\u001b[0m\u001b[0;34m(\u001b[0m\u001b[0mint\u001b[0m\u001b[0;34m,\u001b[0m\u001b[0minput\u001b[0m\u001b[0;34m(\u001b[0m\u001b[0;34m)\u001b[0m\u001b[0;34m.\u001b[0m\u001b[0msplit\u001b[0m\u001b[0;34m(\u001b[0m\u001b[0;34m)\u001b[0m\u001b[0;34m)\u001b[0m\u001b[0;34m\u001b[0m\u001b[0;34m\u001b[0m\u001b[0m\n\u001b[0m\u001b[1;32m     11\u001b[0m \u001b[0;31m#pwr(a,b)\u001b[0m\u001b[0;34m\u001b[0m\u001b[0;34m\u001b[0m\u001b[0;34m\u001b[0m\u001b[0m\n\u001b[1;32m     12\u001b[0m \u001b[0mr\u001b[0m\u001b[0;34m=\u001b[0m\u001b[0mpwr\u001b[0m\u001b[0;34m(\u001b[0m\u001b[0ma\u001b[0m\u001b[0;34m,\u001b[0m\u001b[0mb\u001b[0m\u001b[0;34m)\u001b[0m\u001b[0;34m\u001b[0m\u001b[0;34m\u001b[0m\u001b[0m\n",
            "\u001b[0;31mValueError\u001b[0m: not enough values to unpack (expected 2, got 1)"
          ]
        }
      ]
    },
    {
      "cell_type": "markdown",
      "source": [
        "## 2) write a program to sort tuple by total digits (input: list=[(3,4,6,723),(1,2),(134,234,34)])\n",
        "      output:[(1,2)(3,4,6,723)(34,134,234)]"
      ],
      "metadata": {
        "id": "iX8hCXD1otcg"
      }
    },
    {
      "cell_type": "code",
      "source": [
        "a=eval(input(\"enter the list of tuple\"))\n",
        "b=sorted(a)\n",
        "print(b)"
      ],
      "metadata": {
        "colab": {
          "base_uri": "https://localhost:8080/",
          "height": 0
        },
        "id": "IMqrEns5ovrX",
        "outputId": "02124fea-ed2e-4c4c-90a1-b8b9d5d9a4f2"
      },
      "execution_count": 4,
      "outputs": [
        {
          "output_type": "stream",
          "name": "stdout",
          "text": [
            "enter the list of tuple(3,4,6,723),(1,2),(134,234,34)\n",
            "[(1, 2), (3, 4, 6, 723), (134, 234, 34)]\n"
          ]
        }
      ]
    },
    {
      "cell_type": "code",
      "source": [
        "a=[(3,4,6,723),(1,2),(134,234,34)]\n",
        "for i in range(0,len(a)):\n",
        "  a[i]=sorted(a[i])\n",
        "print(sorted(a))"
      ],
      "metadata": {
        "colab": {
          "base_uri": "https://localhost:8080/",
          "height": 0
        },
        "id": "Su6sOsBTqgIJ",
        "outputId": "266ea825-319a-4bfd-b27b-13b3c3e3acb0"
      },
      "execution_count": 17,
      "outputs": [
        {
          "output_type": "stream",
          "name": "stdout",
          "text": [
            "[[1, 2], [3, 4, 6, 723], [34, 134, 234]]\n"
          ]
        }
      ]
    },
    {
      "cell_type": "markdown",
      "source": [
        "## 3)take five subjects from the user and display the grade of the student,if average is 90-100(o),80-89(a+),70-79(a)..."
      ],
      "metadata": {
        "id": "Islg-zlau5Y4"
      }
    },
    {
      "cell_type": "code",
      "source": [
        "sub1=int(input(\"entr the mark\"))\n",
        "sub2=int(input(\"entr the mark\"))\n",
        "sub3=int(input(\"entr the mark\"))\n",
        "sub4=int(input(\"entr the mark\"))\n",
        "sub5=int(input(\"entr the mark\"))\n",
        "avg=(sub1+sub2+sub3+sub4+sub5)/5\n",
        "print(avg)\n",
        "if(avg>=90):\n",
        "  print(\"o\") \n",
        "elif(avg>=80):     \n",
        "  print(\"a+\")\n",
        "else:\n",
        " print(\"fail\")  "
      ],
      "metadata": {
        "colab": {
          "base_uri": "https://localhost:8080/",
          "height": 0
        },
        "id": "HCrUNfzmt2Qn",
        "outputId": "53f1ad7f-6ee2-4fd6-89d6-51df47e53c5c"
      },
      "execution_count": 20,
      "outputs": [
        {
          "output_type": "stream",
          "name": "stdout",
          "text": [
            "entr the mark91\n",
            "entr the mark77\n",
            "entr the mark84\n",
            "entr the mark94\n",
            "entr the mark87\n",
            "86.6\n",
            "a+\n"
          ]
        }
      ]
    },
    {
      "cell_type": "markdown",
      "source": [
        "## 4)write a python program that prints 1 if all three given numbers are ascending order."
      ],
      "metadata": {
        "id": "jG7pQg-lws10"
      }
    },
    {
      "cell_type": "code",
      "source": [
        "a,b,c=map(int,input().split())\n",
        "if c>b and b>a:\n",
        "  print(1)\n",
        "else:\n",
        "    print(0)"
      ],
      "metadata": {
        "colab": {
          "base_uri": "https://localhost:8080/",
          "height": 0
        },
        "id": "lTbFefXo2KCH",
        "outputId": "ed74c566-20f3-414d-9c97-66dd12b1eb2e"
      },
      "execution_count": 33,
      "outputs": [
        {
          "output_type": "stream",
          "name": "stdout",
          "text": [
            "7 5 4\n",
            "0\n"
          ]
        }
      ]
    },
    {
      "cell_type": "markdown",
      "source": [
        "## 5)check a given number is perfect number are not"
      ],
      "metadata": {
        "id": "2SrBIYZ-1nYv"
      }
    },
    {
      "cell_type": "code",
      "source": [
        "n = int(input(\"Enter any number: \"))\n",
        "sum1 = 0\n",
        "for i in range(1, n):\n",
        "    if(n % i == 0):\n",
        "        sum1 = sum1 + i\n",
        "if (sum1 == n):\n",
        "    print(\"The number is a Perfect number!\")\n",
        "else:\n",
        "    print(\"The number is not a Perfect number!\")"
      ],
      "metadata": {
        "colab": {
          "base_uri": "https://localhost:8080/",
          "height": 0
        },
        "id": "6mpcZLOi2IUQ",
        "outputId": "b16ee3b9-b396-4096-e229-853bf9ef9159"
      },
      "execution_count": 29,
      "outputs": [
        {
          "output_type": "stream",
          "name": "stdout",
          "text": [
            "Enter any number: 124\n",
            "The number is not a Perfect number!\n"
          ]
        }
      ]
    },
    {
      "cell_type": "markdown",
      "source": [
        "## 6)check a given string is a pallindrome or not"
      ],
      "metadata": {
        "id": "0i8kN1W31iZZ"
      }
    },
    {
      "cell_type": "code",
      "source": [
        "def Palindrome(s):\n",
        "  return s==s[::-1]\n",
        "s=input(\"enter the value\")\n",
        "ans=Palindrome(s)\n",
        "if ans:\n",
        "  print(\"Yes\")\n",
        "else:\n",
        "  print(\"No\")"
      ],
      "metadata": {
        "colab": {
          "base_uri": "https://localhost:8080/",
          "height": 0
        },
        "id": "CyKfV4TKzejX",
        "outputId": "040d0ca0-f485-415a-eeef-58d659ffa745"
      },
      "execution_count": 25,
      "outputs": [
        {
          "output_type": "stream",
          "name": "stdout",
          "text": [
            "enter the value55\n",
            "Yes\n"
          ]
        }
      ]
    },
    {
      "cell_type": "markdown",
      "source": [
        "## 7))find the gcd of two numbers with and without recursion(5,3=1)"
      ],
      "metadata": {
        "id": "Xn7-yxSl1veO"
      }
    },
    {
      "cell_type": "code",
      "source": [
        "a=int(input(\"enter a number\"))\n",
        "b=int(input(\"enter a number\"))\n",
        "k=a if a<b else b\n",
        "while True:\n",
        " if a%k==0 and b%k==0:\n",
        "  break\n",
        " k -=1\n",
        "print(k)"
      ],
      "metadata": {
        "colab": {
          "base_uri": "https://localhost:8080/",
          "height": 0
        },
        "id": "0qsvCg3e12tm",
        "outputId": "3a4643f8-6317-4097-98c7-16de76c0b1f4"
      },
      "execution_count": 26,
      "outputs": [
        {
          "output_type": "stream",
          "name": "stdout",
          "text": [
            "enter a number4\n",
            "enter a number8\n",
            "4\n"
          ]
        }
      ]
    },
    {
      "cell_type": "markdown",
      "source": [
        "##21)write program to read any month in integer and display days for that month.\n",
        "\n",
        "\n"
      ],
      "metadata": {
        "id": "Zmd1u3JF4EH_"
      }
    },
    {
      "cell_type": "code",
      "source": [
        "a= int(input(\"enter\"))\n",
        "b=[4,6,9,11]\n",
        "if a==2:\n",
        " print(\"28/29\")\n",
        "elif a in b:\n",
        "  print(\"30\")\n",
        "elif a>=13:\n",
        "  print(\"run the programm again\")\n",
        "else:\n",
        "  print(\"31\")"
      ],
      "metadata": {
        "colab": {
          "base_uri": "https://localhost:8080/"
        },
        "id": "Bgt6ruop4JP_",
        "outputId": "afeba735-8d26-4e71-a3b8-9dca89a2a834"
      },
      "execution_count": 35,
      "outputs": [
        {
          "output_type": "stream",
          "name": "stdout",
          "text": [
            "enter12\n",
            "31\n"
          ]
        }
      ]
    },
    {
      "cell_type": "markdown",
      "source": [
        "##22)write a python program to print even length words in string.input:   \" this is a python class\"\n",
        "\n",
        "\n"
      ],
      "metadata": {
        "id": "dfnyV6yG4Tg4"
      }
    },
    {
      "cell_type": "code",
      "source": [
        "a=input(\"\")\n",
        "b=a.split()\n",
        "for i in b:\n",
        "  if len(i)%2==0:\n",
        "      print(i)"
      ],
      "metadata": {
        "colab": {
          "base_uri": "https://localhost:8080/"
        },
        "id": "GIi-dfKs4V5w",
        "outputId": "3c0b74ed-3c1c-4e96-f46c-e5a222776863"
      },
      "execution_count": 37,
      "outputs": [
        {
          "output_type": "stream",
          "name": "stdout",
          "text": [
            "10\n",
            "10\n"
          ]
        }
      ]
    }
  ]
}