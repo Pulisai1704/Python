{
  "nbformat": 4,
  "nbformat_minor": 0,
  "metadata": {
    "colab": {
      "name": "module - 1.ipynb",
      "provenance": [],
      "authorship_tag": "ABX9TyPaDnvubmsRIAbH3a8tjPpv",
      "include_colab_link": true
    },
    "kernelspec": {
      "name": "python3",
      "display_name": "Python 3"
    },
    "language_info": {
      "name": "python"
    }
  },
  "cells": [
    {
      "cell_type": "markdown",
      "metadata": {
        "id": "view-in-github",
        "colab_type": "text"
      },
      "source": [
        "<a href=\"https://colab.research.google.com/github/Pulisai1704/Python/blob/main/module_1.ipynb\" target=\"_parent\"><img src=\"https://colab.research.google.com/assets/colab-badge.svg\" alt=\"Open In Colab\"/></a>"
      ]
    },
    {
      "cell_type": "code",
      "source": [
        "## Accept input from user and store it in variable and print the value.\n",
        "a=30\n",
        "b=20\n",
        "c=int(input())\n",
        "d=int(input())\n",
        "e=a-b-c-d\n",
        "print(e)"
      ],
      "metadata": {
        "colab": {
          "base_uri": "https://localhost:8080/"
        },
        "id": "N9tXkGk-db_u",
        "outputId": "9ea52e89-16ef-4bbb-adb8-e265748e18e8"
      },
      "execution_count": 7,
      "outputs": [
        {
          "output_type": "stream",
          "name": "stdout",
          "text": [
            "5\n",
            "5\n",
            "0\n"
          ]
        }
      ]
    },
    {
      "cell_type": "code",
      "source": [
        "for a in range(50,100,3):\n",
        "  print(a)"
      ],
      "metadata": {
        "colab": {
          "base_uri": "https://localhost:8080/"
        },
        "id": "am01iaCgd7aE",
        "outputId": "dafc772d-11bb-43a5-b8f4-205b9290e4be"
      },
      "execution_count": 21,
      "outputs": [
        {
          "output_type": "stream",
          "name": "stdout",
          "text": [
            "50\n",
            "53\n",
            "56\n",
            "59\n",
            "62\n",
            "65\n",
            "68\n",
            "71\n",
            "74\n",
            "77\n",
            "80\n",
            "83\n",
            "86\n",
            "89\n",
            "92\n",
            "95\n",
            "98\n"
          ]
        }
      ]
    },
    {
      "cell_type": "code",
      "source": [
        "## Take 2 numbers as user input and add, multiply, divide, subtract, remainder and print the out put\n",
        "x=float(input(\"enter a number\"))\n",
        "y=float(input(\"enter a number\"))\n",
        "z=x+y\n",
        "l=x-y\n",
        "m=x*y\n",
        "n=x/y\n",
        "o=x%y\n",
        "print(\"sum= \",z)\n",
        "print(\"subtract= \",l)\n",
        "print(\"product= \",m)\n",
        "print(\"division= \",n)\n",
        "print(\"remainder= \",o)"
      ],
      "metadata": {
        "colab": {
          "base_uri": "https://localhost:8080/"
        },
        "id": "jBrhtVBqkFY9",
        "outputId": "04ed1842-916d-4aaf-a20a-fbb6ebd284ac"
      },
      "execution_count": 22,
      "outputs": [
        {
          "output_type": "stream",
          "name": "stdout",
          "text": [
            "enter a number4\n",
            "enter a number5\n",
            "sum=  9.0\n",
            "subtract=  -1.0\n",
            "product=  20.0\n",
            "division=  0.8\n",
            "remainder=  4.0\n"
          ]
        }
      ]
    },
    {
      "cell_type": "code",
      "source": [
        "## Conversion of one unit to another\n",
        "x=float(input(\"enter hours\"))\n",
        "print(\"minutes are= \",x*60)\n",
        "y=float(input(\"enter miles\"))\n",
        "print(\"kilometers are= \",y*1.6)"
      ],
      "metadata": {
        "colab": {
          "base_uri": "https://localhost:8080/"
        },
        "id": "SsafZWbRlQyu",
        "outputId": "d2e1dcef-6263-4694-b37f-924497982f45"
      },
      "execution_count": 23,
      "outputs": [
        {
          "output_type": "stream",
          "name": "stdout",
          "text": [
            "enter hours12\n",
            "minutes are=  720.0\n",
            "enter miles10\n",
            "kilometers are=  16.0\n"
          ]
        }
      ]
    },
    {
      "cell_type": "code",
      "source": [
        "## Usage of mathematical functions in python like math.ceil, floor, fabs, fmod, trunc,pow, sqrt etc.\n",
        "import math\n",
        "a=float(input(\"enter a number \"))\n",
        "print(math.ceil(a))\n",
        "print(math.floor(a))\n",
        "print(math.fabs(a))\n",
        "print(math.trunc(a))\n",
        "print(math.sqrt(a))\n",
        "b=float(input(\"enter a number\"))\n",
        "c=float(input(\"enter a number \"))\n",
        "print(math.fmod(b,c))\n",
        "print(math.pow(b,c))"
      ],
      "metadata": {
        "colab": {
          "base_uri": "https://localhost:8080/"
        },
        "id": "cAT-2wNVlqXG",
        "outputId": "bc0f33f8-97aa-4174-be8a-430cb2d8d55b"
      },
      "execution_count": 24,
      "outputs": [
        {
          "output_type": "stream",
          "name": "stdout",
          "text": [
            "enter a number 7\n",
            "7\n",
            "7\n",
            "7.0\n",
            "7\n",
            "2.6457513110645907\n",
            "enter a number5\n",
            "enter a number 6\n",
            "5.0\n",
            "15625.0\n"
          ]
        }
      ]
    },
    {
      "cell_type": "code",
      "source": [
        "## Building a mathematical calculator that can perform operations according to user input.Use decision making statement.\n",
        "a=float(input(\"enter number \"))\n",
        "b=float(input(\"enter a number \"))\n",
        "o=input(\"enter opeation\")\n",
        "if o==\"sum\":\n",
        "           print(a+b)\n",
        "elif o==\"subtract\":\n",
        "                  print(a-b)\n",
        "elif o==\"product\":\n",
        "                 print(a*b)\n",
        "elif o==\"remainder\":\n",
        "                   print(a%b)\n",
        "else:\n",
        "    print(a/b)"
      ],
      "metadata": {
        "colab": {
          "base_uri": "https://localhost:8080/"
        },
        "id": "n1cus2G8mEgd",
        "outputId": "4bfdd690-9fb3-47dd-a6a9-d74fbe156047"
      },
      "execution_count": 26,
      "outputs": [
        {
          "output_type": "stream",
          "name": "stdout",
          "text": [
            "enter number 5\n",
            "enter a number 9\n",
            "enter opeation+\n",
            "0.5555555555555556\n"
          ]
        }
      ]
    },
    {
      "cell_type": "code",
      "source": [
        "## Accepting 5 different subject marks from user and displaying the grade of the student.\n",
        "sub1=int(input(\"enter marks\"))\n",
        "sub2=int(input(\"enter marks\"))\n",
        "sub3=int(input(\"enter marks\"))\n",
        "sub4=int(input(\"enter marks\"))\n",
        "sub5=int(input(\"enter marks\"))\n",
        "avg=(sub1+sub2+sub3+sub4+sub5)/5\n",
        "if avg>=90:\n",
        "          print(\"a grade\")\n",
        "elif avg>=80:\n",
        "            print(\"b grade\")\n",
        "elif avg>=70:\n",
        "            print(\"c grade\")\n",
        "elif avg>=60:\n",
        "            print(\"d grade\")\n",
        "else:\n",
        "    print(\"fail\")"
      ],
      "metadata": {
        "colab": {
          "base_uri": "https://localhost:8080/"
        },
        "id": "88nfhRewmlme",
        "outputId": "a56a7913-2295-4753-dc87-644ed1c51928"
      },
      "execution_count": 27,
      "outputs": [
        {
          "output_type": "stream",
          "name": "stdout",
          "text": [
            "enter marks84\n",
            "enter marks95\n",
            "enter marks86\n",
            "enter marks97\n",
            "enter marks55\n",
            "b grade\n"
          ]
        }
      ]
    },
    {
      "cell_type": "code",
      "source": [
        "## Printing all even numbers, odd numbers, count of even numbers, count of odd numbers within a given range.\n",
        "a=int(input(\"enter range \"))\n",
        "c=0\n",
        "for i in range(1,a+1):\n",
        " if i%2==0:\n",
        "   c+=1\n",
        "   print(i)\n",
        "print(\"even count is \",c)\n",
        "d=0\n",
        "for i in range(1,a+1):\n",
        "  if i%2!=0: \n",
        "    d+=1\n",
        "    print(i)\n",
        "print(\"odd count is \",d)"
      ],
      "metadata": {
        "colab": {
          "base_uri": "https://localhost:8080/"
        },
        "id": "Mt1x26N5oINW",
        "outputId": "9d6af92b-6d0d-4e2e-d01f-59db7b8cd066"
      },
      "execution_count": 28,
      "outputs": [
        {
          "output_type": "stream",
          "name": "stdout",
          "text": [
            "enter range 5\n",
            "2\n",
            "4\n",
            "even count is  2\n",
            "1\n",
            "3\n",
            "5\n",
            "odd count is  3\n"
          ]
        }
      ]
    },
    {
      "cell_type": "code",
      "source": [
        "##  Generate Fibonacci series up to N numbers\n",
        "n=int(input(\"enter a number \"))\n",
        "fac=1\n",
        "for i in range(1,n+1):\n",
        "  fac=fac*i\n",
        "\n",
        "print(fac)"
      ],
      "metadata": {
        "colab": {
          "base_uri": "https://localhost:8080/"
        },
        "id": "xXXqAkNNpI8G",
        "outputId": "e9252eb7-d642-4fa7-a0a0-660f1869f80d"
      },
      "execution_count": 29,
      "outputs": [
        {
          "output_type": "stream",
          "name": "stdout",
          "text": [
            "enter a number 5\n",
            "120\n"
          ]
        }
      ]
    },
    {
      "cell_type": "code",
      "source": [
        "##  Compute GCD of two given numbers\n",
        "x=int(input(\"enter a number\"))\n",
        "y=int(input(\"enter a number\"))\n",
        "k=x if x<y else y\n",
        "while True:\n",
        "    if x%k==0 and y%k==0:\n",
        "     break\n",
        "    k -=1\n",
        "print(k)"
      ],
      "metadata": {
        "colab": {
          "base_uri": "https://localhost:8080/"
        },
        "id": "kIw_pNnvhKJ-",
        "outputId": "30d4c24f-0bda-48be-db36-ff23cbfe8252"
      },
      "execution_count": 19,
      "outputs": [
        {
          "output_type": "stream",
          "name": "stdout",
          "text": [
            "enter a number5\n",
            "enter a number6\n",
            "1\n"
          ]
        }
      ]
    },
    {
      "cell_type": "code",
      "source": [
        "## Compute compound interest using loop for a certain principal and interest amount\n",
        "a=int(input(\"principle amount:\"))\n",
        "rate=int(input(\"rate:\"))\n",
        "year=int(input(\"number of years:\"))\n",
        "for i in range(year):\n",
        "  a=a+((a*rate)/100)\n",
        "  print(a)"
      ],
      "metadata": {
        "colab": {
          "base_uri": "https://localhost:8080/"
        },
        "id": "DU5uOFYdfjbv",
        "outputId": "12f0c84f-2bcd-4d03-e7c8-fc08da8bce0f"
      },
      "execution_count": 11,
      "outputs": [
        {
          "output_type": "stream",
          "name": "stdout",
          "text": [
            "principle amount:12\n",
            "rate:5\n",
            "number of years:3\n",
            "12.6\n",
            "13.23\n",
            "13.8915\n"
          ]
        }
      ]
    }
  ]
}