{
  "nbformat": 4,
  "nbformat_minor": 0,
  "metadata": {
    "colab": {
      "name": "SETS.ipynb",
      "provenance": [],
      "authorship_tag": "ABX9TyPMoybsgn7Uqlycl76e7/ri",
      "include_colab_link": true
    },
    "kernelspec": {
      "name": "python3",
      "display_name": "Python 3"
    },
    "language_info": {
      "name": "python"
    }
  },
  "cells": [
    {
      "cell_type": "markdown",
      "metadata": {
        "id": "view-in-github",
        "colab_type": "text"
      },
      "source": [
        "<a href=\"https://colab.research.google.com/github/Pulisai1704/Python/blob/main/SETS.ipynb\" target=\"_parent\"><img src=\"https://colab.research.google.com/assets/colab-badge.svg\" alt=\"Open In Colab\"/></a>"
      ]
    },
    {
      "cell_type": "markdown",
      "source": [
        "## Sets"
      ],
      "metadata": {
        "id": "czErwfqYBSQY"
      }
    },
    {
      "cell_type": "code",
      "execution_count": 2,
      "metadata": {
        "colab": {
          "base_uri": "https://localhost:8080/"
        },
        "id": "ngbmJ2gYBH5w",
        "outputId": "76a2dc2f-7759-458f-8452-0faaf30d4871"
      },
      "outputs": [
        {
          "output_type": "stream",
          "name": "stdout",
          "text": [
            "{'buffalow', 'goat', 'sheep', 'cow'}\n"
          ]
        }
      ],
      "source": [
        "## Sets\n",
        "animals={\"cow\",\"buffalow\",\"goat\",\"sheep\"}\n",
        "print(animals)"
      ]
    },
    {
      "cell_type": "code",
      "source": [
        "## Duplicates Not Allowed\n",
        "animals={\"cow\",\"buffalow\",\"cow\",\"sheep\"}\n",
        "print(animals)"
      ],
      "metadata": {
        "colab": {
          "base_uri": "https://localhost:8080/"
        },
        "id": "rz17toxECwLo",
        "outputId": "1ff3dd92-ffcd-4f68-aa7d-4bc0c83a3edd"
      },
      "execution_count": 4,
      "outputs": [
        {
          "output_type": "stream",
          "name": "stdout",
          "text": [
            "{'buffalow', 'sheep', 'cow'}\n"
          ]
        }
      ]
    },
    {
      "cell_type": "code",
      "source": [
        "## Get the Length of a Set\n",
        "animals={\"cow\",\"buffalow\",\"cow\",\"sheep\"}\n",
        "print(len(animals))"
      ],
      "metadata": {
        "colab": {
          "base_uri": "https://localhost:8080/"
        },
        "id": "6dpf81BAC_qX",
        "outputId": "59ad311e-8f70-4586-a87f-9afe88d7473f"
      },
      "execution_count": 6,
      "outputs": [
        {
          "output_type": "stream",
          "name": "stdout",
          "text": [
            "3\n"
          ]
        }
      ]
    },
    {
      "cell_type": "code",
      "source": [
        "## Set Items - Data Types\n",
        "fruits = {\"apple\", \"banana\", \"cherry\"}\n",
        "num = {1, 5, 7, 9, 3}\n",
        "boolean = {True, False, False}\n",
        "print(fruits)\n",
        "print(num)\n",
        "print(boolean)"
      ],
      "metadata": {
        "colab": {
          "base_uri": "https://localhost:8080/"
        },
        "id": "oW5LTc9hDQeX",
        "outputId": "1f2ec2ad-2c7a-43e5-eeab-31c60a490b08"
      },
      "execution_count": 8,
      "outputs": [
        {
          "output_type": "stream",
          "name": "stdout",
          "text": [
            "{'cherry', 'apple', 'banana'}\n",
            "{1, 3, 5, 7, 9}\n",
            "{False, True}\n"
          ]
        }
      ]
    },
    {
      "cell_type": "code",
      "source": [
        "## A set with strings, integers and boolean values:\n",
        "a=(\"abc\",\"154\",\"true\")\n",
        "print(a)"
      ],
      "metadata": {
        "colab": {
          "base_uri": "https://localhost:8080/"
        },
        "id": "JfL31pwMERSp",
        "outputId": "dfe0cce0-2719-4a3b-e91d-8bb373645bb5"
      },
      "execution_count": 9,
      "outputs": [
        {
          "output_type": "stream",
          "name": "stdout",
          "text": [
            "('abc', '154', 'true')\n"
          ]
        }
      ]
    }
  ]
}