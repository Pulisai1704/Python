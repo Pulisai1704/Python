{
  "nbformat": 4,
  "nbformat_minor": 0,
  "metadata": {
    "colab": {
      "name": "1704 MODULE - 2.ipynb",
      "provenance": [],
      "authorship_tag": "ABX9TyMdP3ZHdgiKAKWLQSS08wyY",
      "include_colab_link": true
    },
    "kernelspec": {
      "name": "python3",
      "display_name": "Python 3"
    },
    "language_info": {
      "name": "python"
    }
  },
  "cells": [
    {
      "cell_type": "markdown",
      "metadata": {
        "id": "view-in-github",
        "colab_type": "text"
      },
      "source": [
        "<a href=\"https://colab.research.google.com/github/Pulisai1704/Python/blob/main/1704_MODULE_2.ipynb\" target=\"_parent\"><img src=\"https://colab.research.google.com/assets/colab-badge.svg\" alt=\"Open In Colab\"/></a>"
      ]
    },
    {
      "cell_type": "markdown",
      "source": [
        "## MODULE - 2"
      ],
      "metadata": {
        "id": "VXNpkYDl1Ad2"
      }
    },
    {
      "cell_type": "markdown",
      "source": [
        "##Create a function which accepts two inputs from the user and compute nCr\n"
      ],
      "metadata": {
        "id": "4sT3ZJIN1Lgz"
      }
    },
    {
      "cell_type": "code",
      "execution_count": 4,
      "metadata": {
        "colab": {
          "base_uri": "https://localhost:8080/"
        },
        "id": "IWI9ZD2H03r9",
        "outputId": "e03d2004-4f9b-47a0-cba6-14e8efca2550"
      },
      "outputs": [
        {
          "output_type": "stream",
          "name": "stdout",
          "text": [
            "6\n",
            "2\n",
            "15\n"
          ]
        }
      ],
      "source": [
        "def nCr (x,y):\n",
        "  return(fact(x)//(fact(y)\n",
        "                   *fact(x-y)))\n",
        "x=int(input(\"\")) \n",
        "y=int(input(\"\"))\n",
        "def fact(x):\n",
        "    res=1 \n",
        "    for i in range(2,x+1):\n",
        "      res =res*i\n",
        "    return res\n",
        "print(int(nCr(x,y))) \n",
        "\n"
      ]
    },
    {
      "cell_type": "markdown",
      "source": [
        "## Program to print a specified list after removing the 0th, 4th and 5th elements. "
      ],
      "metadata": {
        "id": "vidpVoIb3bIb"
      }
    },
    {
      "cell_type": "code",
      "source": [
        "a = ['Red', 'Green', 'White', 'Black', 'Pink', 'Yellow']\n",
        "a = [x for (i,x) in enumerate(a) if i not in (0,4,5)]\n",
        "print(a)"
      ],
      "metadata": {
        "colab": {
          "base_uri": "https://localhost:8080/"
        },
        "id": "Y8iwkS0L3aD9",
        "outputId": "9b32dad8-50ee-4efb-d780-b5d09264c81d"
      },
      "execution_count": 18,
      "outputs": [
        {
          "output_type": "stream",
          "name": "stdout",
          "text": [
            "['Green', 'White', 'Black']\n"
          ]
        }
      ]
    },
    {
      "cell_type": "markdown",
      "source": [
        "## Program to get the difference between the two lists"
      ],
      "metadata": {
        "id": "FGIcjcYX4sUU"
      }
    },
    {
      "cell_type": "code",
      "source": [
        "a = [1, 3, 5, 7, 9]\n",
        "b=[1, 2, 4, 6, 7, 8]\n",
        "diff_a_b = list(set(a) - set(b))\n",
        "diff_b_a = list(set(b) - set(a))\n",
        "total_diff = diff_a_b + diff_b_a\n",
        "print(total_diff)"
      ],
      "metadata": {
        "colab": {
          "base_uri": "https://localhost:8080/"
        },
        "id": "q1E6Nanm4qwd",
        "outputId": "1aeafbad-6d55-43e0-8259-7d76c7f106c8"
      },
      "execution_count": 7,
      "outputs": [
        {
          "output_type": "stream",
          "name": "stdout",
          "text": [
            "[9, 3, 5, 8, 2, 4, 6]\n"
          ]
        }
      ]
    },
    {
      "cell_type": "markdown",
      "source": [
        "## Given list of tuples, remove all the tuples with length K"
      ],
      "metadata": {
        "id": "NnuvubaL8HJq"
      }
    },
    {
      "cell_type": "code",
      "source": [
        "numbers = [8, 10, 14, 18, 24]\n",
        "print(\"The numbers is \")\n",
        "print(numbers)\n",
        "print(\"The resultant tuple is :\")\n",
        "result = [(val, pow(val, 4)) for val in numbers]\n",
        "print(result)"
      ],
      "metadata": {
        "colab": {
          "base_uri": "https://localhost:8080/"
        },
        "id": "0-BsYKv98IyK",
        "outputId": "dd272b4d-a1a1-4abc-d99c-8b8bd726e338"
      },
      "execution_count": 17,
      "outputs": [
        {
          "output_type": "stream",
          "name": "stdout",
          "text": [
            "The numbers is \n",
            "[8, 10, 14, 18, 24]\n",
            "The resultant tuple is :\n",
            "[(8, 4096), (10, 10000), (14, 38416), (18, 104976), (24, 331776)]\n"
          ]
        }
      ]
    },
    {
      "cell_type": "markdown",
      "source": [
        "## Program to remove a key from a dictionary"
      ],
      "metadata": {
        "id": "HKx9FUGP_TU1"
      }
    },
    {
      "cell_type": "code",
      "source": [
        "dictionary = {'x':3,'y':4,'z':5,'a':6}\n",
        "print(dictionary)\n",
        "if 'x' in dictionary: \n",
        "    del dictionary['x']\n",
        "print(dictionary)\n"
      ],
      "metadata": {
        "colab": {
          "base_uri": "https://localhost:8080/"
        },
        "id": "v2Gi1wqS-e9V",
        "outputId": "57c24c52-9612-4323-cc47-45db31762152"
      },
      "execution_count": 14,
      "outputs": [
        {
          "output_type": "stream",
          "name": "stdout",
          "text": [
            "{'x': 3, 'y': 4, 'z': 5, 'a': 6}\n",
            "{'y': 4, 'z': 5, 'a': 6}\n"
          ]
        }
      ]
    },
    {
      "cell_type": "markdown",
      "source": [
        "## Program to generate and print a dictionary that contains a number (between 1 and n) in the form (x, x*x). \n",
        " "
      ],
      "metadata": {
        "id": "0d-jRU-z_Irt"
      }
    },
    {
      "cell_type": "code",
      "source": [
        "a=int(input(\"Input a number \"))\n",
        "b = dict()\n",
        "\n",
        "for i in range(1,a+1):\n",
        "    b[i]=i*i\n",
        "\n",
        "print(b)"
      ],
      "metadata": {
        "colab": {
          "base_uri": "https://localhost:8080/"
        },
        "id": "nA8LwpKu-sbE",
        "outputId": "ef3bfadd-be43-4558-9581-287fa290bd20"
      },
      "execution_count": 13,
      "outputs": [
        {
          "output_type": "stream",
          "name": "stdout",
          "text": [
            "Input a number 2\n",
            "{1: 1, 2: 4}\n"
          ]
        }
      ]
    },
    {
      "cell_type": "markdown",
      "source": [
        "## Program to get the maximum and minimum value in a dictionary"
      ],
      "metadata": {
        "id": "O1dxWkDVC3Qs"
      }
    },
    {
      "cell_type": "code",
      "source": [
        "dictionary = {'a':300, 'b':874, 'c': 860}\n",
        "\n",
        "key_max = max(dictionary.keys(), key=(lambda k: dictionary[k]))\n",
        "key_min = min(dictionary.keys(), key=(lambda k: dictionary[k]))\n",
        "\n",
        "print('Maximum Value: ',dictionary[key_max])\n",
        "print('Minimum Value: ',dictionary[key_min])\n"
      ],
      "metadata": {
        "colab": {
          "base_uri": "https://localhost:8080/"
        },
        "id": "e43a2UNcCe8k",
        "outputId": "1e5ed044-3580-49a9-9dd9-0dd5d622028e"
      },
      "execution_count": 20,
      "outputs": [
        {
          "output_type": "stream",
          "name": "stdout",
          "text": [
            "Maximum Value:  874\n",
            "Minimum Value:  300\n"
          ]
        }
      ]
    }
  ]
}