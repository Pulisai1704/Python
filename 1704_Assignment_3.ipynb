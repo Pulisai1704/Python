{
  "nbformat": 4,
  "nbformat_minor": 0,
  "metadata": {
    "colab": {
      "name": "1704 Assignment - 3.ipynb",
      "provenance": [],
      "authorship_tag": "ABX9TyM9moZbfEimdUoAt/Rj9Ya3",
      "include_colab_link": true
    },
    "kernelspec": {
      "name": "python3",
      "display_name": "Python 3"
    },
    "language_info": {
      "name": "python"
    }
  },
  "cells": [
    {
      "cell_type": "markdown",
      "metadata": {
        "id": "view-in-github",
        "colab_type": "text"
      },
      "source": [
        "<a href=\"https://colab.research.google.com/github/Pulisai1704/Python/blob/main/1704_Assignment_3.ipynb\" target=\"_parent\"><img src=\"https://colab.research.google.com/assets/colab-badge.svg\" alt=\"Open In Colab\"/></a>"
      ]
    },
    {
      "cell_type": "markdown",
      "source": [
        "## 1)write a python program to find power of number with recursion and without recursion(input n=2 , p=3)"
      ],
      "metadata": {
        "id": "UU4EZatTkUgg"
      }
    },
    {
      "cell_type": "code",
      "execution_count": 41,
      "metadata": {
        "colab": {
          "base_uri": "https://localhost:8080/"
        },
        "id": "hhZbGjWYjf8b",
        "outputId": "0c7736e6-3567-4cbc-e03a-3960513b2ea8"
      },
      "outputs": [
        {
          "output_type": "stream",
          "name": "stdout",
          "text": [
            "2\n",
            "3\n",
            "8\n"
          ]
        }
      ],
      "source": [
        "## without recursion\n",
        "n=int(input())\n",
        "p=int(input())\n",
        "x=n**p\n",
        "print(x)"
      ]
    },
    {
      "cell_type": "code",
      "source": [
        "## with recursion\n",
        "def power(n,p):\n",
        "  if p==0:\n",
        "    return 1\n",
        "  if p!=0:\n",
        "    return(n*power(n,p-1))\n",
        "n=int(input())\n",
        "p=int(input())\n",
        "print(power(n,p))"
      ],
      "metadata": {
        "colab": {
          "base_uri": "https://localhost:8080/"
        },
        "id": "u-LCemVDXf7t",
        "outputId": "7645bcf2-4f38-44e8-a4c0-c4a5e0705349"
      },
      "execution_count": 42,
      "outputs": [
        {
          "output_type": "stream",
          "name": "stdout",
          "text": [
            "2\n",
            "3\n",
            "8\n"
          ]
        }
      ]
    },
    {
      "cell_type": "markdown",
      "source": [
        "## 2) write a program to sort tuple by total digits (input: list=[(3,4,6,723),(1,2),(134,234,34)])\n",
        "      output:[(1,2)(3,4,6,723)(34,134,234)]"
      ],
      "metadata": {
        "id": "iX8hCXD1otcg"
      }
    },
    {
      "cell_type": "code",
      "source": [
        "a=eval(input(\"enter the list of tuple\"))\n",
        "b=sorted(a)\n",
        "print(b)"
      ],
      "metadata": {
        "colab": {
          "base_uri": "https://localhost:8080/"
        },
        "id": "IMqrEns5ovrX",
        "outputId": "02124fea-ed2e-4c4c-90a1-b8b9d5d9a4f2"
      },
      "execution_count": null,
      "outputs": [
        {
          "output_type": "stream",
          "name": "stdout",
          "text": [
            "enter the list of tuple(3,4,6,723),(1,2),(134,234,34)\n",
            "[(1, 2), (3, 4, 6, 723), (134, 234, 34)]\n"
          ]
        }
      ]
    },
    {
      "cell_type": "code",
      "source": [
        "a=[(3,4,6,723),(1,2),(134,234,34)]\n",
        "for i in range(0,len(a)):\n",
        "  a[i]=sorted(a[i])\n",
        "print(sorted(a))"
      ],
      "metadata": {
        "colab": {
          "base_uri": "https://localhost:8080/"
        },
        "id": "Su6sOsBTqgIJ",
        "outputId": "266ea825-319a-4bfd-b27b-13b3c3e3acb0"
      },
      "execution_count": null,
      "outputs": [
        {
          "output_type": "stream",
          "name": "stdout",
          "text": [
            "[[1, 2], [3, 4, 6, 723], [34, 134, 234]]\n"
          ]
        }
      ]
    },
    {
      "cell_type": "markdown",
      "source": [
        "## 3)take five subjects from the user and display the grade of the student,if average is 90-100(o),80-89(a+),70-79(a)..."
      ],
      "metadata": {
        "id": "Islg-zlau5Y4"
      }
    },
    {
      "cell_type": "code",
      "source": [
        "sub1=int(input(\"entr the mark\"))\n",
        "sub2=int(input(\"entr the mark\"))\n",
        "sub3=int(input(\"entr the mark\"))\n",
        "sub4=int(input(\"entr the mark\"))\n",
        "sub5=int(input(\"entr the mark\"))\n",
        "avg=(sub1+sub2+sub3+sub4+sub5)/5\n",
        "print(avg)\n",
        "if(avg>=90):\n",
        "  print(\"o\") \n",
        "elif(avg>=80):     \n",
        "  print(\"a+\")\n",
        "else:\n",
        " print(\"fail\")  "
      ],
      "metadata": {
        "colab": {
          "base_uri": "https://localhost:8080/"
        },
        "id": "HCrUNfzmt2Qn",
        "outputId": "53f1ad7f-6ee2-4fd6-89d6-51df47e53c5c"
      },
      "execution_count": null,
      "outputs": [
        {
          "output_type": "stream",
          "name": "stdout",
          "text": [
            "entr the mark91\n",
            "entr the mark77\n",
            "entr the mark84\n",
            "entr the mark94\n",
            "entr the mark87\n",
            "86.6\n",
            "a+\n"
          ]
        }
      ]
    },
    {
      "cell_type": "markdown",
      "source": [
        "## 4)write a python program that prints 1 if all three given numbers are ascending order."
      ],
      "metadata": {
        "id": "jG7pQg-lws10"
      }
    },
    {
      "cell_type": "code",
      "source": [
        "a,b,c=map(int,input().split())\n",
        "if c>b and b>a:\n",
        "  print(1)\n",
        "else:\n",
        "    print(0)"
      ],
      "metadata": {
        "colab": {
          "base_uri": "https://localhost:8080/"
        },
        "id": "lTbFefXo2KCH",
        "outputId": "ed74c566-20f3-414d-9c97-66dd12b1eb2e"
      },
      "execution_count": null,
      "outputs": [
        {
          "output_type": "stream",
          "name": "stdout",
          "text": [
            "7 5 4\n",
            "0\n"
          ]
        }
      ]
    },
    {
      "cell_type": "markdown",
      "source": [
        "## 5)check a given number is perfect number are not"
      ],
      "metadata": {
        "id": "2SrBIYZ-1nYv"
      }
    },
    {
      "cell_type": "code",
      "source": [
        "n = int(input(\"Enter any number: \"))\n",
        "sum1 = 0\n",
        "for i in range(1, n):\n",
        "    if(n % i == 0):\n",
        "        sum1 = sum1 + i\n",
        "if (sum1 == n):\n",
        "    print(\"The number is a Perfect number!\")\n",
        "else:\n",
        "    print(\"The number is not a Perfect number!\")"
      ],
      "metadata": {
        "colab": {
          "base_uri": "https://localhost:8080/"
        },
        "id": "6mpcZLOi2IUQ",
        "outputId": "b16ee3b9-b396-4096-e229-853bf9ef9159"
      },
      "execution_count": null,
      "outputs": [
        {
          "output_type": "stream",
          "name": "stdout",
          "text": [
            "Enter any number: 124\n",
            "The number is not a Perfect number!\n"
          ]
        }
      ]
    },
    {
      "cell_type": "markdown",
      "source": [
        "## 6)check a given string is a pallindrome or not"
      ],
      "metadata": {
        "id": "0i8kN1W31iZZ"
      }
    },
    {
      "cell_type": "code",
      "source": [
        "def Palindrome(s):\n",
        "  return s==s[::-1]\n",
        "s=input(\"enter the value\")\n",
        "ans=Palindrome(s)\n",
        "if ans:\n",
        "  print(\"Yes\")\n",
        "else:\n",
        "  print(\"No\")"
      ],
      "metadata": {
        "colab": {
          "base_uri": "https://localhost:8080/"
        },
        "id": "CyKfV4TKzejX",
        "outputId": "040d0ca0-f485-415a-eeef-58d659ffa745"
      },
      "execution_count": null,
      "outputs": [
        {
          "output_type": "stream",
          "name": "stdout",
          "text": [
            "enter the value55\n",
            "Yes\n"
          ]
        }
      ]
    },
    {
      "cell_type": "markdown",
      "source": [
        "## 7))find the gcd of two numbers with and without recursion(5,3=1)"
      ],
      "metadata": {
        "id": "Xn7-yxSl1veO"
      }
    },
    {
      "cell_type": "code",
      "source": [
        "a=int(input(\"enter a number\"))\n",
        "b=int(input(\"enter a number\"))\n",
        "k=a if a<b else b\n",
        "while True:\n",
        " if a%k==0 and b%k==0:\n",
        "  break\n",
        " k -=1\n",
        "print(k)"
      ],
      "metadata": {
        "colab": {
          "base_uri": "https://localhost:8080/"
        },
        "id": "0qsvCg3e12tm",
        "outputId": "3a4643f8-6317-4097-98c7-16de76c0b1f4"
      },
      "execution_count": null,
      "outputs": [
        {
          "output_type": "stream",
          "name": "stdout",
          "text": [
            "enter a number4\n",
            "enter a number8\n",
            "4\n"
          ]
        }
      ]
    },
    {
      "cell_type": "markdown",
      "source": [
        "## 8)print sum of even digits in a given number"
      ],
      "metadata": {
        "id": "-8oR4YGiD6dr"
      }
    },
    {
      "cell_type": "code",
      "source": [
        "a=int(input())\n",
        "i=0\n",
        "while a>0:\n",
        "  d=a%10\n",
        "  if d%2==0:\n",
        "    i=i+d\n",
        "  a=a//10\n",
        "print(i)"
      ],
      "metadata": {
        "colab": {
          "base_uri": "https://localhost:8080/"
        },
        "id": "4G9EnXxtD55u",
        "outputId": "6338362d-fca5-4c6d-fb07-2e1b7813f5c2"
      },
      "execution_count": 1,
      "outputs": [
        {
          "output_type": "stream",
          "name": "stdout",
          "text": [
            "4\n",
            "4\n"
          ]
        }
      ]
    },
    {
      "cell_type": "markdown",
      "source": [
        "## 9)calculate the product of digits of a number"
      ],
      "metadata": {
        "id": "6JEZlidBGe1y"
      }
    },
    {
      "cell_type": "code",
      "source": [
        "n=int(input())\n",
        "b=1\n",
        "while n>0:\n",
        "  d=n%10\n",
        "  b=b*d\n",
        "  n=n//10\n",
        "print(b)"
      ],
      "metadata": {
        "colab": {
          "base_uri": "https://localhost:8080/"
        },
        "id": "uEXiXWcpGg3R",
        "outputId": "a1a39b04-769b-4046-d7c6-5e98d618cc60"
      },
      "execution_count": 3,
      "outputs": [
        {
          "output_type": "stream",
          "name": "stdout",
          "text": [
            "23\n",
            "6\n"
          ]
        }
      ]
    },
    {
      "cell_type": "markdown",
      "source": [
        "## 10)write a program to calculate the sum of squares given by user(123=14)"
      ],
      "metadata": {
        "id": "UmiiAYPpG0Rn"
      }
    },
    {
      "cell_type": "code",
      "source": [
        "x=int(input())\n",
        "b=0\n",
        "while x>0:\n",
        "   d=x%10\n",
        "   b=b+d**2\n",
        "   x=x//10\n",
        "print(b)"
      ],
      "metadata": {
        "colab": {
          "base_uri": "https://localhost:8080/"
        },
        "id": "4Coc9YAnG7Gv",
        "outputId": "33ea40f0-6339-4399-a329-f078fa6d4cfb"
      },
      "execution_count": 4,
      "outputs": [
        {
          "output_type": "stream",
          "name": "stdout",
          "text": [
            "3\n",
            "9\n"
          ]
        }
      ]
    },
    {
      "cell_type": "markdown",
      "source": [
        "## 11)given a string is s= abcdefcba how many times ith character from the front equals last ith element print(countfrontbackmatches('abcdefcba'))\n",
        "           \n",
        "           "
      ],
      "metadata": {
        "id": "bIjrl9oZIaEU"
      }
    },
    {
      "cell_type": "code",
      "source": [
        "def ith_capital(x):\n",
        "  a=len(x)\n",
        "  b=a//2\n",
        "  sum=0\n",
        "  for i in range(1,b+1):\n",
        "    if x[(i-1)]==x[-i]:\n",
        "      sum = sum + 1\n",
        "  return sum\n",
        "x=str(input())\n",
        "print(ith_capital(x))"
      ],
      "metadata": {
        "colab": {
          "base_uri": "https://localhost:8080/"
        },
        "id": "Jaa58PH0IgtQ",
        "outputId": "fa346dd8-6516-41e4-ab2e-bf54bda7a205"
      },
      "execution_count": 5,
      "outputs": [
        {
          "output_type": "stream",
          "name": "stdout",
          "text": [
            "5\n",
            "0\n"
          ]
        }
      ]
    },
    {
      "cell_type": "markdown",
      "source": [
        "## 12)given an integer n, return a list containing 1223334444.. and finaly n repeated n times(n>0) print(repeatnumtimes(4)\n",
        "          \n",
        "          "
      ],
      "metadata": {
        "id": "UN6ZtbgGLeng"
      }
    },
    {
      "cell_type": "code",
      "source": [
        "x=int(input())\n",
        "a=[]\n",
        "for i in range (x+1):\n",
        "  for j in range(i):\n",
        "    a.append(i)\n",
        "print(a)"
      ],
      "metadata": {
        "colab": {
          "base_uri": "https://localhost:8080/"
        },
        "id": "WUw-8TTELoyL",
        "outputId": "3da226a9-6ca4-4bb6-c3cd-b968fd664d84"
      },
      "execution_count": 7,
      "outputs": [
        {
          "output_type": "stream",
          "name": "stdout",
          "text": [
            "6\n",
            "[1, 2, 2, 3, 3, 3, 4, 4, 4, 4, 5, 5, 5, 5, 5, 6, 6, 6, 6, 6, 6]\n"
          ]
        }
      ]
    },
    {
      "cell_type": "markdown",
      "source": [
        "## 13)print number of vowels and consonents in a given string(gitam university)"
      ],
      "metadata": {
        "id": "o4HS3_MUMHou"
      }
    },
    {
      "cell_type": "code",
      "source": [
        "n=str(input())\n",
        "x=0\n",
        "y=0\n",
        "n=n.lower()\n",
        "for i in n:\n",
        "  if i=='a' or i=='e' or i=='i' or i=='o' or i=='u':\n",
        "    x=x+1\n",
        "  elif i >= 'a' and i<='z':\n",
        "    y=y+1\n",
        "print(\"vowels = {}\".format(x))\n",
        "print(\"consonents = {}\".format(y))"
      ],
      "metadata": {
        "colab": {
          "base_uri": "https://localhost:8080/"
        },
        "id": "uEoW7g4tMJhC",
        "outputId": "ab1f969c-654e-4e88-e8fd-39a256eec898"
      },
      "execution_count": 10,
      "outputs": [
        {
          "output_type": "stream",
          "name": "stdout",
          "text": [
            "avinash puli\n",
            "vowels = 5\n",
            "consonents = 6\n"
          ]
        }
      ]
    },
    {
      "cell_type": "markdown",
      "source": [
        "## 14)given two integers a and b.if a <b ,print all numbers between in ascending order.if a>b print all numbers between in decending *order*"
      ],
      "metadata": {
        "id": "6bNwnwvEN_6a"
      }
    },
    {
      "cell_type": "code",
      "source": [
        "x=int(input())\n",
        "y=int(input())\n",
        "if x<y:\n",
        "  for i in range(x,y+1):\n",
        "    print(i)\n",
        "if x>y:\n",
        "  for i in reversed(range(y,x+1)):\n",
        "    print(i)"
      ],
      "metadata": {
        "colab": {
          "base_uri": "https://localhost:8080/"
        },
        "id": "H3OMxzbhOCN_",
        "outputId": "801312cb-0b2c-4ae0-db68-27d2128ab7d9"
      },
      "execution_count": 16,
      "outputs": [
        {
          "output_type": "stream",
          "name": "stdout",
          "text": [
            "12\n",
            "8\n",
            "12\n",
            "11\n",
            "10\n",
            "9\n",
            "8\n"
          ]
        }
      ]
    },
    {
      "cell_type": "markdown",
      "source": [
        "## 15)program to print greatest of three numbers"
      ],
      "metadata": {
        "id": "ejzLrfCKP0Mi"
      }
    },
    {
      "cell_type": "code",
      "source": [
        "a=int(input())\n",
        "b=int(input())\n",
        "c=int(input())\n",
        "if a>b and a>c:\n",
        "  print(a)\n",
        "elif b>c and b>a:\n",
        "  print(b)\n",
        "else:\n",
        "  print(c)"
      ],
      "metadata": {
        "colab": {
          "base_uri": "https://localhost:8080/"
        },
        "id": "FPkvPjZjP13N",
        "outputId": "a3610da8-0d36-4fd9-a528-8f92331cf25e"
      },
      "execution_count": 12,
      "outputs": [
        {
          "output_type": "stream",
          "name": "stdout",
          "text": [
            "3\n",
            "4\n",
            "6\n",
            "6\n"
          ]
        }
      ]
    },
    {
      "cell_type": "markdown",
      "source": [
        "## 16)write a program to print numbers of strings where the string length is 2 or more and the fist and last are same from given input"
      ],
      "metadata": {
        "id": "c780XzpTQeUq"
      }
    },
    {
      "cell_type": "code",
      "source": [
        "n=[\"xyz\",\"1441\",\"aba\",\"abc\"]\n",
        "for i in n:\n",
        "  if len(i)>2:\n",
        "    if i[0]==i[-1]:\n",
        "      print(i)"
      ],
      "metadata": {
        "colab": {
          "base_uri": "https://localhost:8080/"
        },
        "id": "WZkL2w_8Qg0A",
        "outputId": "54643752-b3be-41fa-d740-e9559207db3b"
      },
      "execution_count": 17,
      "outputs": [
        {
          "output_type": "stream",
          "name": "stdout",
          "text": [
            "1441\n",
            "aba\n"
          ]
        }
      ]
    },
    {
      "cell_type": "markdown",
      "source": [
        "## 17)round trip of 3+3=6 km.no of days and no of round trips.<40000 meters (need to walk more ) >40000 meters (good job)\n",
        "\n"
      ],
      "metadata": {
        "id": "TJZGRIxVQ_7w"
      }
    },
    {
      "cell_type": "code",
      "source": [
        "x=int(input()) #days\n",
        "y=int(input()) #round trips\n",
        "z=x*y*6000\n",
        "if z>=40000:\n",
        "  print(\"Good job\")\n",
        "else:\n",
        "  print(\"Need to walk more\")"
      ],
      "metadata": {
        "colab": {
          "base_uri": "https://localhost:8080/"
        },
        "id": "16xProe9RLTi",
        "outputId": "d906f4f4-e6b7-49c6-c1d4-0a3ca1130e77"
      },
      "execution_count": 18,
      "outputs": [
        {
          "output_type": "stream",
          "name": "stdout",
          "text": [
            "38000\n",
            "41000\n",
            "Good job\n"
          ]
        }
      ]
    },
    {
      "cell_type": "markdown",
      "source": [
        "## 18)given alist of students l and a charter, display thenames of the students whose first character is a gien character print(student details([]))\n",
        "                  \n",
        "                  "
      ],
      "metadata": {
        "id": "a_napVInREVQ"
      }
    },
    {
      "cell_type": "code",
      "source": [
        "n=input(\"Enter letter to be verified \")\n",
        "n=n.lower()\n",
        "r=[]\n",
        "s=0\n",
        "for i in range(int(input(\"Enter no. of students \"))):\n",
        "    a=input(f\"Enter name of student no. {i+1} \")\n",
        "    a=a.lower()\n",
        "    p=a[0]\n",
        "    if n==p :\n",
        "       s+=1\n",
        "       r.append(a)\n",
        "print(f\"Total {s} students matched\\nThey are {r}\")"
      ],
      "metadata": {
        "colab": {
          "base_uri": "https://localhost:8080/"
        },
        "id": "JaJk14J1RrGU",
        "outputId": "5822acd7-395f-4513-bbf3-9a7b09134367"
      },
      "execution_count": 21,
      "outputs": [
        {
          "output_type": "stream",
          "name": "stdout",
          "text": [
            "Enter letter to be verified hari\n",
            "Enter no. of students 3\n",
            "Enter name of student no. 1 sai\n",
            "Enter name of student no. 2 mani\n",
            "Enter name of student no. 3 hari\n",
            "Total 0 students matched\n",
            "They are []\n"
          ]
        }
      ]
    },
    {
      "cell_type": "markdown",
      "source": [
        "## 19)given a list of city names whose length is greater than the given length"
      ],
      "metadata": {
        "id": "Lg475p_CSnnn"
      }
    },
    {
      "cell_type": "code",
      "source": [
        "a=[\"guntur\",\"vizag\",\"vijayawada\",\"repalle\"]\n",
        "b=int(input())\n",
        "c=[]\n",
        "for i in a:\n",
        "  if len(i)>=b:\n",
        "    c.append(i)\n",
        "print(c)"
      ],
      "metadata": {
        "colab": {
          "base_uri": "https://localhost:8080/"
        },
        "id": "7KslhCtcSp9z",
        "outputId": "7ba3ba57-b1f9-4183-82fc-00ae5a20bb9a"
      },
      "execution_count": 25,
      "outputs": [
        {
          "output_type": "stream",
          "name": "stdout",
          "text": [
            "5\n",
            "['guntur', 'vizag', 'vijayawada', 'repalle']\n"
          ]
        }
      ]
    },
    {
      "cell_type": "markdown",
      "source": [
        "## 20)write a progam to print prime numbers in given range by using functions(25,50)."
      ],
      "metadata": {
        "id": "3KM71NyGTvnP"
      }
    },
    {
      "cell_type": "code",
      "source": [
        "def prime(a,b):\n",
        "  for i in range(a,b+1):\n",
        "    sum=0\n",
        "    for n in range(1,i+1):\n",
        "      if i%n==0:\n",
        "         sum=sum+1\n",
        "    if sum==2:\n",
        "        print(i)\n",
        "a=int(input())\n",
        "b=int(input())\n",
        "prime(a,b)"
      ],
      "metadata": {
        "colab": {
          "base_uri": "https://localhost:8080/"
        },
        "id": "2G1H49d7TxZL",
        "outputId": "7a81059d-0d1d-4d3d-c901-10cfed027921"
      },
      "execution_count": 28,
      "outputs": [
        {
          "output_type": "stream",
          "name": "stdout",
          "text": [
            "25\n",
            "50\n",
            "29\n",
            "31\n",
            "37\n",
            "41\n",
            "43\n",
            "47\n"
          ]
        }
      ]
    },
    {
      "cell_type": "markdown",
      "source": [
        "##21)write program to read any month in integer and display days for that month.\n",
        "\n",
        "\n"
      ],
      "metadata": {
        "id": "Zmd1u3JF4EH_"
      }
    },
    {
      "cell_type": "code",
      "source": [
        "a= int(input(\"enter the month number\"))\n",
        "b=[4,6,9,11]\n",
        "if a==2:\n",
        " print(\"28/29\")\n",
        "elif a in b:\n",
        "  print(\"30\")\n",
        "elif a>=13 or a<1:\n",
        "  print(\"run the programm again\")\n",
        "else:\n",
        "  print(\"31\")"
      ],
      "metadata": {
        "colab": {
          "base_uri": "https://localhost:8080/"
        },
        "id": "Bgt6ruop4JP_",
        "outputId": "52507242-a3e8-4ca7-9fa9-ed22e2ef2c5e"
      },
      "execution_count": 29,
      "outputs": [
        {
          "output_type": "stream",
          "name": "stdout",
          "text": [
            "enter the month number23\n",
            "run the programm again\n"
          ]
        }
      ]
    },
    {
      "cell_type": "markdown",
      "source": [
        "##22)write a python program to print even length words in string.input:   \" this is a python class\"\n",
        "\n",
        "\n"
      ],
      "metadata": {
        "id": "dfnyV6yG4Tg4"
      }
    },
    {
      "cell_type": "code",
      "source": [
        "a=str(input())\n",
        "b=a.split(' ')\n",
        "for i in b:\n",
        "  if len(i)%2==0:\n",
        "    print(i)"
      ],
      "metadata": {
        "colab": {
          "base_uri": "https://localhost:8080/"
        },
        "id": "GIi-dfKs4V5w",
        "outputId": "1f296f71-f7ee-438c-9d55-5584a37378cf"
      },
      "execution_count": 32,
      "outputs": [
        {
          "output_type": "stream",
          "name": "stdout",
          "text": [
            "this is a python class\n",
            "this\n",
            "is\n",
            "python\n"
          ]
        }
      ]
    },
    {
      "cell_type": "markdown",
      "source": [
        "## 23)write a program to read a string from user display first chacter of each word with capital letter."
      ],
      "metadata": {
        "id": "iLTWAUocVYsK"
      }
    },
    {
      "cell_type": "code",
      "source": [
        "x=str(input())\n",
        "y=x.split(' ')\n",
        "for i in y:\n",
        "  n=i.capitalize()\n",
        "  print(n,end=\" \")"
      ],
      "metadata": {
        "colab": {
          "base_uri": "https://localhost:8080/"
        },
        "id": "RYg83PfoVdLW",
        "outputId": "6a0fab81-3fdb-40cc-c726-10af439dbf94"
      },
      "execution_count": 33,
      "outputs": [
        {
          "output_type": "stream",
          "name": "stdout",
          "text": [
            "hari\n",
            "Hari "
          ]
        }
      ]
    },
    {
      "cell_type": "markdown",
      "source": [
        "## 24)write a python program to captalise the first and last of each word"
      ],
      "metadata": {
        "id": "IXSMuNrqWDPI"
      }
    },
    {
      "cell_type": "code",
      "source": [
        "a=str(input())\n",
        "b=a.split(' ')\n",
        "z=\"\"\n",
        "for i in b:\n",
        "  x=i.capitalize()\n",
        "  y=i[-1].capitalize()\n",
        "  z=x[0:-1]+y\n",
        "  print(z,end=\" \")"
      ],
      "metadata": {
        "colab": {
          "base_uri": "https://localhost:8080/"
        },
        "id": "MSzWd_Q_WFrh",
        "outputId": "e9f3781e-a84e-4a74-c118-f429c3d36ffd"
      },
      "execution_count": 35,
      "outputs": [
        {
          "output_type": "stream",
          "name": "stdout",
          "text": [
            "hari pranay\n",
            "HarI PranaY "
          ]
        }
      ]
    },
    {
      "cell_type": "markdown",
      "source": [
        "## 25)write a python program to convert a list of multiple integers into a single line.      input:[11,22,33]     output:112233\n",
        "           \n",
        "           "
      ],
      "metadata": {
        "id": "7OfDzfUgW2Dc"
      }
    },
    {
      "cell_type": "code",
      "source": [
        "x=eval(input())\n",
        "y=\"\"\n",
        "for i in x:\n",
        "  y+=str(i)\n",
        "print(y)"
      ],
      "metadata": {
        "colab": {
          "base_uri": "https://localhost:8080/"
        },
        "id": "TpoPkx2EXAuy",
        "outputId": "f5d1412e-390a-4bbf-9995-28881d3a9e81"
      },
      "execution_count": 36,
      "outputs": [
        {
          "output_type": "stream",
          "name": "stdout",
          "text": [
            "[11,22,33]\n",
            "112233\n"
          ]
        }
      ]
    }
  ]
}