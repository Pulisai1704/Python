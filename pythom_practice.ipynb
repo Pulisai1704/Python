{
  "nbformat": 4,
  "nbformat_minor": 0,
  "metadata": {
    "colab": {
      "name": "pythom practice.ipynb",
      "provenance": [],
      "authorship_tag": "ABX9TyOVw4jBJbTVR7gmS7gH1wx3",
      "include_colab_link": true
    },
    "kernelspec": {
      "name": "python3",
      "display_name": "Python 3"
    },
    "language_info": {
      "name": "python"
    }
  },
  "cells": [
    {
      "cell_type": "markdown",
      "metadata": {
        "id": "view-in-github",
        "colab_type": "text"
      },
      "source": [
        "<a href=\"https://colab.research.google.com/github/Pulisai1704/Python/blob/main/pythom_practice.ipynb\" target=\"_parent\"><img src=\"https://colab.research.google.com/assets/colab-badge.svg\" alt=\"Open In Colab\"/></a>"
      ]
    },
    {
      "cell_type": "code",
      "execution_count": 1,
      "metadata": {
        "colab": {
          "base_uri": "https://localhost:8080/"
        },
        "id": "qsOLqzKzDS9j",
        "outputId": "f802d348-ee22-47ef-ea88-85d925ce0e59"
      },
      "outputs": [
        {
          "output_type": "execute_result",
          "data": {
            "text/plain": [
              "{'branch': 'CSE',\n",
              " 'email-id': 'lpuli@gitam.in',\n",
              " 'github-id': 'lpuli@gitam.in',\n",
              " 'moodle-id': 'PULI LAKSHMI VENKATA NAGA SAI vu21csen0101704',\n",
              " 'name': {'first-name': 'puli lakshmi venkata naga ', 'last-name': 'sai'},\n",
              " 'replit-id': 'lpuli@gitam.in',\n",
              " 'roll-number': 'VU21CSEN0101704',\n",
              " 'semester': '2',\n",
              " 'specialization': 'Core',\n",
              " 'year': '1'}"
            ]
          },
          "metadata": {},
          "execution_count": 1
        }
      ],
      "source": [
        "{\n",
        "'name': {'first-name':'puli lakshmi venkata naga ', 'last-name':'sai'},\n",
        "'roll-number':'VU21CSEN0101704',\n",
        "'branch':'CSE',\n",
        "'specialization':'Core',\n",
        "'email-id':'lpuli@gitam.in',\n",
        "'moodle-id':'PULI LAKSHMI VENKATA NAGA SAI vu21csen0101704',\n",
        "'github-id':'lpuli@gitam.in',\n",
        "'replit-id':'lpuli@gitam.in',\n",
        "'semester':'2',\n",
        "'year':'1'\n",
        "}"
      ]
    },
    {
      "cell_type": "code",
      "source": [
        "def my_details():\n",
        "  a={\n",
        "    'name': {'first-name':'puli lakshmi venkata naga ', 'last-name':'sai'},\n",
        "    'roll-number':'VU21CSEN0101704',\n",
        "    'branch':'CSE',\n",
        "    'specialization':'Core',\n",
        "    'email-id':'lpuli@gitam.in',\n",
        "    'moodle-id':'PULI LAKSHMI VENKATA NAGA SAI vu21csen0101704',\n",
        "    'github-id':'lpuli@gitam.in',\n",
        "    'replit-id':'lpuli@gitam.in',\n",
        "    'semester':'2',\n",
        "    'year':'1'\n",
        "     }\n",
        "  return a\n",
        "dt = my_details()\n",
        "print(dt)"
      ],
      "metadata": {
        "colab": {
          "base_uri": "https://localhost:8080/"
        },
        "id": "nPfwsL8THGI5",
        "outputId": "2c72eb01-3c8e-4f41-cf39-aaaea1cabd8c"
      },
      "execution_count": 4,
      "outputs": [
        {
          "output_type": "stream",
          "name": "stdout",
          "text": [
            "{'name': {'first-name': 'puli lakshmi venkata naga ', 'last-name': 'sai'}, 'roll-number': 'VU21CSEN0101704', 'branch': 'CSE', 'specialization': 'Core', 'email-id': 'lpuli@gitam.in', 'moodle-id': 'PULI LAKSHMI VENKATA NAGA SAI vu21csen0101704', 'github-id': 'lpuli@gitam.in', 'replit-id': 'lpuli@gitam.in', 'semester': '2', 'year': '1'}\n"
          ]
        }
      ]
    }
  ]
}