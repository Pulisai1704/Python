{
  "nbformat": 4,
  "nbformat_minor": 0,
  "metadata": {
    "colab": {
      "name": "python  control statements.ipynb",
      "provenance": [],
      "authorship_tag": "ABX9TyMncV/DVzxg8B9cvoyYWfcJ",
      "include_colab_link": true
    },
    "kernelspec": {
      "name": "python3",
      "display_name": "Python 3"
    },
    "language_info": {
      "name": "python"
    }
  },
  "cells": [
    {
      "cell_type": "markdown",
      "metadata": {
        "id": "view-in-github",
        "colab_type": "text"
      },
      "source": [
        "<a href=\"https://colab.research.google.com/github/Pulisai1704/Python/blob/main/python_control_statements.ipynb\" target=\"_parent\"><img src=\"https://colab.research.google.com/assets/colab-badge.svg\" alt=\"Open In Colab\"/></a>"
      ]
    },
    {
      "cell_type": "code",
      "execution_count": 1,
      "metadata": {
        "id": "rI-Rb3GZLoDQ"
      },
      "outputs": [],
      "source": [
        "## weather the triangle is equilateral,isoceles or scalar triangle"
      ]
    },
    {
      "cell_type": "code",
      "source": [
        "a=input(\"enter the value of 1st side\")\n",
        "b=input(\"enter the value of 2st side\")\n",
        "c=input(\"enter the value of 3st side\")\n",
        "if a==b==c:\n",
        "        print(\"equilateral\")\n",
        "elif b==c:\n",
        "         print(\"isoceles\")\n",
        "else:\n",
        "    print (\"scalar\")"
      ],
      "metadata": {
        "colab": {
          "base_uri": "https://localhost:8080/",
          "height": 0
        },
        "id": "RsCx9Zx9OOzH",
        "outputId": "934ff739-add6-4e28-8ff5-3f728e8885ce"
      },
      "execution_count": 5,
      "outputs": [
        {
          "output_type": "stream",
          "name": "stdout",
          "text": [
            "enter the value of 1st side3\n",
            "enter the value of 2st side4\n",
            "enter the value of 3st side6\n",
            "scalar\n"
          ]
        }
      ]
    },
    {
      "cell_type": "code",
      "source": [
        "## check the given number is leap year or not"
      ],
      "metadata": {
        "id": "5fSe8TodRp2b"
      },
      "execution_count": 7,
      "outputs": []
    },
    {
      "cell_type": "code",
      "source": [
        "year=int(input(\"enter the year\"))\n",
        "if year%4==0:\n",
        "            print(\"leap year\")\n",
        "else:\n",
        "    print(\"not leap year\")"
      ],
      "metadata": {
        "colab": {
          "base_uri": "https://localhost:8080/",
          "height": 0
        },
        "id": "ybbhgq12R0iE",
        "outputId": "a407ad53-de4e-4856-e75a-e2de9b3f24b9"
      },
      "execution_count": 15,
      "outputs": [
        {
          "output_type": "stream",
          "name": "stdout",
          "text": [
            "enter the year2012\n",
            "leap year\n"
          ]
        }
      ]
    },
    {
      "cell_type": "code",
      "source": [
        "## minimum of three numbers"
      ],
      "metadata": {
        "id": "_euPTbc1UQQj"
      },
      "execution_count": 16,
      "outputs": []
    },
    {
      "cell_type": "code",
      "source": [
        "a=int(input(\"enter the first number\"))\n",
        "b=int(input(\"enter the second number\"))\n",
        "c=int(input(\"enter the third number\"))\n",
        "if a>b and a>c:\n",
        "              print(\"a is minimum\")\n",
        "elif b>c and b>a:\n",
        "                print(\"b is minimum\")\n",
        "else:\n",
        "    print(\"c is minimum\")"
      ],
      "metadata": {
        "colab": {
          "base_uri": "https://localhost:8080/",
          "height": 0
        },
        "id": "1ugCmrzlUb1z",
        "outputId": "e6513b7e-f7e1-48c5-cbdd-013a3cb3eee8"
      },
      "execution_count": 21,
      "outputs": [
        {
          "output_type": "stream",
          "name": "stdout",
          "text": [
            "enter the first number2\n",
            "enter the second number3\n",
            "enter the third number4\n",
            "c is minimum\n"
          ]
        }
      ]
    },
    {
      "cell_type": "code",
      "source": [
        "##Check whether a number is positive, negative or zero using switch case. "
      ],
      "metadata": {
        "id": "Vl4IVjVkU238"
      },
      "execution_count": 22,
      "outputs": []
    },
    {
      "cell_type": "code",
      "source": [
        "a="
      ],
      "metadata": {
        "id": "3N82yKkCWhDC"
      },
      "execution_count": null,
      "outputs": []
    }
  ]
}