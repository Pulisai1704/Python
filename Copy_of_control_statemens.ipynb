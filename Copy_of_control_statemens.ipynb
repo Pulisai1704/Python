{
  "nbformat": 4,
  "nbformat_minor": 0,
  "metadata": {
    "colab": {
      "name": "Copy of control statemens.ipynb",
      "provenance": [],
      "authorship_tag": "ABX9TyN4UguSvry5rar+rGI2YdKA",
      "include_colab_link": true
    },
    "kernelspec": {
      "name": "python3",
      "display_name": "Python 3"
    },
    "language_info": {
      "name": "python"
    }
  },
  "cells": [
    {
      "cell_type": "markdown",
      "metadata": {
        "id": "view-in-github",
        "colab_type": "text"
      },
      "source": [
        "<a href=\"https://colab.research.google.com/github/Pulisai1704/Python/blob/main/Copy_of_control_statemens.ipynb\" target=\"_parent\"><img src=\"https://colab.research.google.com/assets/colab-badge.svg\" alt=\"Open In Colab\"/></a>"
      ]
    },
    {
      "cell_type": "code",
      "execution_count": null,
      "metadata": {
        "id": "CMw6Ye7zpi32"
      },
      "outputs": [],
      "source": [
        "## control statements"
      ]
    },
    {
      "cell_type": "code",
      "source": [
        "a=20\n",
        "if a>=18:\n",
        "        print(\"you are elgible for voting\")\n",
        "else:\n",
        "    print(\"you are not elgible\")\n",
        "  \n"
      ],
      "metadata": {
        "colab": {
          "base_uri": "https://localhost:8080/"
        },
        "id": "mv2AK6Z9pl63",
        "outputId": "cc64b129-386c-4f99-db36-c6360123820f"
      },
      "execution_count": null,
      "outputs": [
        {
          "output_type": "stream",
          "name": "stdout",
          "text": [
            "you are elgible for voting\n"
          ]
        }
      ]
    },
    {
      "cell_type": "code",
      "source": [
        "a=int(input(\"enter your age\"))\n",
        "if a>=18:\n",
        "        print(\"you are elgible for voting\")\n",
        "else:\n",
        "    print(\"you are not elgible for voting\")"
      ],
      "metadata": {
        "colab": {
          "base_uri": "https://localhost:8080/"
        },
        "id": "YThcqr0Nrb1p",
        "outputId": "4e4c02a4-5a28-494c-de12-d71a76acd070"
      },
      "execution_count": null,
      "outputs": [
        {
          "output_type": "stream",
          "name": "stdout",
          "text": [
            "enter your age25\n",
            "you are elgible for voting\n"
          ]
        }
      ]
    },
    {
      "cell_type": "code",
      "source": [
        "a=int(input(\"enter your number\"))\n",
        "b=int(input(\"enter your number\"))\n",
        "c=int(input(\"enter your number\"))\n",
        "if a>b & a>c:\n",
        "            print(\"a is greatest\")\n",
        "elif b>a & b>c:\n",
        "              print(\"b is greatest\")\n",
        "else:\n",
        "    print(\"c is greatest\")"
      ],
      "metadata": {
        "colab": {
          "base_uri": "https://localhost:8080/"
        },
        "id": "mALjZN-HsOKK",
        "outputId": "2826fb89-b0cb-4568-fff2-81d4ede218de"
      },
      "execution_count": null,
      "outputs": [
        {
          "output_type": "stream",
          "name": "stdout",
          "text": [
            "enter your number4\n",
            "enter your number5\n",
            "enter your number3\n",
            "b is greatest\n"
          ]
        }
      ]
    },
    {
      "cell_type": "code",
      "source": [
        "a=int(input(\"enter your number\"))\n",
        "b=int(input(\"enter your number\"))\n",
        "c=int(input(\"enter your number\"))\n",
        "d=int(input(\"enter your number\"))\n",
        "e=int(input(\"enter your number\"))\n",
        "if a>b & a>c & a>d & a>e:\n",
        "                        print(\"a is greatest\")\n",
        "elif b>a & b>c & b>d & b>e:\n",
        "                          print(\"b is greatest\")\n",
        "elif c>a & c>b & c>d & c>e:\n",
        "                          print(\"c is greatest\")\n",
        "elif d>a & d>b & d>c & d>e:\n",
        "                          print(\"d is greatest\")\n",
        "else:\n",
        "    print(\"e is greatest\")"
      ],
      "metadata": {
        "colab": {
          "base_uri": "https://localhost:8080/"
        },
        "id": "o_LCUOHquUMx",
        "outputId": "2c9b0763-cd11-4f25-9f80-585109fc18a4"
      },
      "execution_count": null,
      "outputs": [
        {
          "output_type": "stream",
          "name": "stdout",
          "text": [
            "enter your number3\n",
            "enter your number4\n",
            "enter your number5\n",
            "enter your number6\n",
            "enter your number7\n",
            "e is greatest\n"
          ]
        }
      ]
    },
    {
      "cell_type": "code",
      "source": [
        "a=int(input(\"enter marks of 1st student\"))\n",
        "b=int(input(\"enter marks of 2nd student \"))\n",
        "c=int(input(\"enter marks of 3rd student \"))\n",
        "d=int(input(\"enter marks of 4th student \"))\n",
        "e=int(input(\"enter marks of 5th student \"))\n",
        "if a>b & a>c & a>d & a>e:\n",
        "                        print(\"a is greatest\")\n",
        "elif b>a & b>c & b>d & b>e:\n",
        "                          print(\"b is greatest\")\n",
        "elif c>a & c>b & c>d & c>e:\n",
        "                          print(\"c is greatest\")\n",
        "elif d>a & d>b & d>c & d>e:\n",
        "                          print(\"d is greatest\")\n",
        "else:\n",
        "    print(\"e is greatest\")"
      ],
      "metadata": {
        "colab": {
          "base_uri": "https://localhost:8080/"
        },
        "id": "FTdBF_VfwkHO",
        "outputId": "a65e9b98-1263-4194-d9ea-ce4114963fad"
      },
      "execution_count": null,
      "outputs": [
        {
          "output_type": "stream",
          "name": "stdout",
          "text": [
            "enter marks of 1st student2\n",
            "enter marks of 2nd student 3\n",
            "enter marks of 3rd student 4\n",
            "enter marks of 4th student 5\n",
            "enter marks of 5th student 6\n",
            "e is greatest\n"
          ]
        }
      ]
    },
    {
      "cell_type": "code",
      "source": [
        "\n"
      ],
      "metadata": {
        "id": "23yCaKvExrjf"
      },
      "execution_count": null,
      "outputs": []
    }
  ]
}