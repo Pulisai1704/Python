{
  "nbformat": 4,
  "nbformat_minor": 0,
  "metadata": {
    "colab": {
      "name": "Puli Naga Sai 1704 Lists.ipynb",
      "provenance": [],
      "collapsed_sections": [],
      "authorship_tag": "ABX9TyPv2A0K0qB72LdP2nbV6s6o",
      "include_colab_link": true
    },
    "kernelspec": {
      "name": "python3",
      "display_name": "Python 3"
    },
    "language_info": {
      "name": "python"
    }
  },
  "cells": [
    {
      "cell_type": "markdown",
      "metadata": {
        "id": "view-in-github",
        "colab_type": "text"
      },
      "source": [
        "<a href=\"https://colab.research.google.com/github/Pulisai1704/Python/blob/main/Puli_Naga_Sai_1704_Lists.ipynb\" target=\"_parent\"><img src=\"https://colab.research.google.com/assets/colab-badge.svg\" alt=\"Open In Colab\"/></a>"
      ]
    },
    {
      "cell_type": "markdown",
      "source": [
        "## Python Lists VU21CSENO101704"
      ],
      "metadata": {
        "id": "dCCUeCuWcwBA"
      }
    },
    {
      "cell_type": "markdown",
      "source": [
        "## List Printing"
      ],
      "metadata": {
        "id": "SRVyX_sAdPCc"
      }
    },
    {
      "cell_type": "code",
      "source": [
        "fruit = [\"gova\", \"mango\", \"jack fruit\"]\n",
        "print(fruit)\n",
        "#List Length\n",
        "print(len(fruit))"
      ],
      "metadata": {
        "colab": {
          "base_uri": "https://localhost:8080/",
          "height": 0
        },
        "id": "HR2KKlNbdaGw",
        "outputId": "275aeee1-2f4b-4c00-b05f-0c92c64d1fcd"
      },
      "execution_count": 3,
      "outputs": [
        {
          "output_type": "stream",
          "name": "stdout",
          "text": [
            "['gova', 'mango', 'jack fruit']\n",
            "3\n"
          ]
        }
      ]
    },
    {
      "cell_type": "markdown",
      "source": [
        "## List Items - Data Types"
      ],
      "metadata": {
        "id": "bFatxmnvhLYw"
      }
    },
    {
      "cell_type": "code",
      "source": [
        "names = [\"sai\", \"mani\", \"venkey\"]\n",
        "print(names)\n",
        "numbers = [1, 5, 7, 9, 3]\n",
        "print(numbers)\n",
        "boolean = [True, False, False]\n",
        "print(boolean)\n",
        "#type\n",
        "print(type)"
      ],
      "metadata": {
        "colab": {
          "base_uri": "https://localhost:8080/",
          "height": 0
        },
        "id": "8hLzQQdPhNbh",
        "outputId": "51131b95-1ce9-4b34-89bb-617ab9aac6e5"
      },
      "execution_count": 8,
      "outputs": [
        {
          "output_type": "stream",
          "name": "stdout",
          "text": [
            "['sai', 'mani', 'venkey']\n",
            "[1, 5, 7, 9, 3]\n",
            "[True, False, False]\n",
            "<class 'type'>\n"
          ]
        }
      ]
    },
    {
      "cell_type": "code",
      "source": [
        ""
      ],
      "metadata": {
        "id": "Vg-1SPTrjI_N"
      },
      "execution_count": null,
      "outputs": []
    },
    {
      "cell_type": "markdown",
      "source": [
        "## The list() Constructor"
      ],
      "metadata": {
        "id": "4UgcCMLsjKLE"
      }
    },
    {
      "cell_type": "code",
      "source": [
        "subjects = list((\"maths\", \"physics\", \"chemistry\"))\n",
        "print(subjects )"
      ],
      "metadata": {
        "colab": {
          "base_uri": "https://localhost:8080/",
          "height": 0
        },
        "id": "49gE3CtdjTGl",
        "outputId": "c18468d5-f591-4e59-a349-b6877d9569c1"
      },
      "execution_count": 10,
      "outputs": [
        {
          "output_type": "stream",
          "name": "stdout",
          "text": [
            "['maths', 'physics', 'chemistry']\n"
          ]
        }
      ]
    },
    {
      "cell_type": "code",
      "source": [
        ""
      ],
      "metadata": {
        "id": "Ut4OqiCFkHCQ"
      },
      "execution_count": null,
      "outputs": []
    },
    {
      "cell_type": "markdown",
      "source": [
        "## Access List Items\n",
        "\n"
      ],
      "metadata": {
        "id": "TOjdZaIukKoJ"
      }
    },
    {
      "cell_type": "markdown",
      "source": [
        "## Print the items of the list:"
      ],
      "metadata": {
        "id": "bXuSLnqqkHxc"
      }
    },
    {
      "cell_type": "code",
      "source": [
        "animals = [\"cow\",\"goat\",\"bullock\",\"buffalo\"]\n",
        "print(animals[1])\n",
        "print(animals[0])\n",
        "print(animals[2])\n",
        "print(animals[3])\n",
        "print(animals[-1])\n",
        "## Negative Indexing\n",
        "print(animals[-1])\n",
        "print(animals[-2])\n",
        "print(animals[-3])\n",
        "## Range of Indexes\n",
        "print(animals[2:4])\n",
        "print(animals[0:2])\n",
        "print(animals[1:3])\n",
        "print(animals[:2])\n",
        "print(animals[3:])\n",
        "## Range of negative indexing\n",
        "print(animals[-1:-3])\n",
        "print(animals[-2:-1])"
      ],
      "metadata": {
        "colab": {
          "base_uri": "https://localhost:8080/",
          "height": 0
        },
        "id": "SD1voiE_kyzU",
        "outputId": "677b6021-34ca-45e1-8287-f8e6e791eb24"
      },
      "execution_count": 29,
      "outputs": [
        {
          "output_type": "stream",
          "name": "stdout",
          "text": [
            "goat\n",
            "cow\n",
            "bullock\n",
            "buffalo\n",
            "buffalo\n",
            "buffalo\n",
            "bullock\n",
            "goat\n",
            "['bullock', 'buffalo']\n",
            "['cow', 'goat']\n",
            "['goat', 'bullock']\n",
            "['cow', 'goat']\n",
            "['buffalo']\n",
            "[]\n",
            "['bullock']\n"
          ]
        }
      ]
    },
    {
      "cell_type": "markdown",
      "source": [
        "## Change list Item "
      ],
      "metadata": {
        "id": "tRQWCeawm8oe"
      }
    },
    {
      "cell_type": "code",
      "source": [
        "fruits = [\"apple\", \"banana\",\"mango\", \"cherry\"]\n",
        "fruits[1] = \"blackcurrant\"\n",
        "print(fruits)\n",
        "fruits[3] = \"gova\"\n",
        "print(fruits)\n",
        "fruits[2] = \"carrot\"\n",
        "print(fruits)\n",
        "fruits[0] = \"beetroot\"\n",
        "print(fruits)\n",
        "## range of the item value\n",
        "fruits[1:3] = [\"grapes\",\"water mwlon\"]\n",
        "print(fruits)\n",
        "fruits[0:2] =[\"orange\",\"jack fruit\"]\n",
        "print(fruits)"
      ],
      "metadata": {
        "colab": {
          "base_uri": "https://localhost:8080/",
          "height": 0
        },
        "id": "-jLNjzYftUnC",
        "outputId": "5777f219-cd67-4cf2-a31e-1885e41d8171"
      },
      "execution_count": 54,
      "outputs": [
        {
          "output_type": "stream",
          "name": "stdout",
          "text": [
            "['apple', 'blackcurrant', 'mango', 'cherry']\n",
            "['apple', 'blackcurrant', 'mango', 'gova']\n",
            "['apple', 'blackcurrant', 'carrot', 'gova']\n",
            "['beetroot', 'blackcurrant', 'carrot', 'gova']\n",
            "['beetroot', 'grapes', 'water mwlon', 'gova']\n",
            "['orange', 'jack fruit', 'water mwlon', 'gova']\n"
          ]
        }
      ]
    },
    {
      "cell_type": "code",
      "source": [
        ""
      ],
      "metadata": {
        "id": "gee3ZSBQwkJt"
      },
      "execution_count": null,
      "outputs": []
    },
    {
      "cell_type": "markdown",
      "source": [
        "## ADD List items"
      ],
      "metadata": {
        "id": "SZFd0240wlAI"
      }
    },
    {
      "cell_type": "markdown",
      "source": [
        "## APPEND , INSERT\n",
        "\n"
      ],
      "metadata": {
        "id": "E1Z1EU0_ykG3"
      }
    },
    {
      "cell_type": "code",
      "source": [
        "fruit=[\"goa\",\"apple\",\"banana\",\"mango\"]\n",
        "print(fruit)\n",
        "## APPEND\n",
        "fruit.append(\"JACK FRUIT\")\n",
        "print(fruit)\n",
        "fruit.append(\"carrot\")\n",
        "print(fruit)\n",
        "## INSERT\n",
        "fruit.insert(1,\"gova\")\n",
        "print(fruit)\n",
        "fruit.insert(4,\"pine apple\")\n",
        "print(fruit)"
      ],
      "metadata": {
        "colab": {
          "base_uri": "https://localhost:8080/",
          "height": 0
        },
        "id": "hw2Jvvr7x-rM",
        "outputId": "1fef3b42-7713-47c4-9698-fff394a19bbf"
      },
      "execution_count": 98,
      "outputs": [
        {
          "output_type": "stream",
          "name": "stdout",
          "text": [
            "['goa', 'apple', 'banana', 'mango']\n",
            "['goa', 'apple', 'banana', 'mango', 'JACK FRUIT']\n",
            "['goa', 'apple', 'banana', 'mango', 'JACK FRUIT', 'carrot']\n",
            "['goa', 'gova', 'apple', 'banana', 'mango', 'JACK FRUIT', 'carrot']\n",
            "['goa', 'gova', 'apple', 'banana', 'pine apple', 'mango', 'JACK FRUIT', 'carrot']\n"
          ]
        }
      ]
    },
    {
      "cell_type": "markdown",
      "source": [
        "## EXTEND"
      ],
      "metadata": {
        "id": "y6YRjfg-0zT8"
      }
    },
    {
      "cell_type": "code",
      "source": [
        "fruits1 = [\"apple\", \"banana\", \"cherry\"]\n",
        "fruits2 = [\"mango\", \"pineapple\", \"papaya\"]\n",
        "fruits1.extend(fruits2)\n",
        "print(fruits1)"
      ],
      "metadata": {
        "colab": {
          "base_uri": "https://localhost:8080/",
          "height": 0
        },
        "id": "WAGjuSWQ03GU",
        "outputId": "457b7b48-c264-4f96-f0f1-4f81c07313e4"
      },
      "execution_count": 69,
      "outputs": [
        {
          "output_type": "stream",
          "name": "stdout",
          "text": [
            "['apple', 'banana', 'cherry', 'mango', 'pineapple', 'papaya']\n"
          ]
        }
      ]
    },
    {
      "cell_type": "code",
      "source": [
        "animals1 = [\"cow\",\"goat\",\"bullock\",\"buffalo\"]\n",
        "animals2 = [\"sheep\",\"lion\",\"tiger\",\"deer\"]\n",
        "animals1.extend(animals2)\n",
        "print(animals1)"
      ],
      "metadata": {
        "colab": {
          "base_uri": "https://localhost:8080/",
          "height": 0
        },
        "id": "_nGKDWg22NFe",
        "outputId": "8e159678-c58c-43b2-878c-028ce1c14d4f"
      },
      "execution_count": 71,
      "outputs": [
        {
          "output_type": "stream",
          "name": "stdout",
          "text": [
            "['cow', 'goat', 'bullock', 'buffalo', 'sheep', 'lion', 'tiger', 'deer']\n"
          ]
        }
      ]
    },
    {
      "cell_type": "code",
      "source": [
        ""
      ],
      "metadata": {
        "id": "8TqsImiJ3LQE"
      },
      "execution_count": null,
      "outputs": []
    },
    {
      "cell_type": "markdown",
      "source": [
        "## REMOVE Specified Item"
      ],
      "metadata": {
        "id": "E2i8T77e3MDF"
      }
    },
    {
      "cell_type": "markdown",
      "source": [
        "## REMOVE , POP , DEL , CLEAR"
      ],
      "metadata": {
        "id": "Ge_ZEoTi3kbc"
      }
    },
    {
      "cell_type": "markdown",
      "source": [
        "## REMOVE"
      ],
      "metadata": {
        "id": "G6riyTL95Mh8"
      }
    },
    {
      "cell_type": "code",
      "source": [
        "fruit=[\"gova\",\"apple\",\"banana\",\"mango\"]\n",
        "fruit.remove(\"apple\")\n",
        "print(fruit)\n",
        "fruit.remove(\"gova\")\n",
        "print(fruit)\n",
        "fruit.remove(\"banana\")\n",
        "print(fruit)\n",
        "fruit.remove(\"mango\")\n",
        "print(fruit)"
      ],
      "metadata": {
        "colab": {
          "base_uri": "https://localhost:8080/",
          "height": 0
        },
        "id": "3vN5QNj03cIY",
        "outputId": "edfce8ce-b335-4c55-e359-037f893cab16"
      },
      "execution_count": 79,
      "outputs": [
        {
          "output_type": "stream",
          "name": "stdout",
          "text": [
            "['gova', 'banana', 'mango']\n",
            "['banana', 'mango']\n",
            "['mango']\n",
            "[]\n"
          ]
        }
      ]
    },
    {
      "cell_type": "markdown",
      "source": [
        "## POP"
      ],
      "metadata": {
        "id": "JVzqIS8t3hxo"
      }
    },
    {
      "cell_type": "code",
      "source": [
        "animals = [\"cow\",\"goat\",\"bullock\",\"buffalo\"]\n",
        "animals.pop(3)\n",
        "print(animals)\n",
        "animals.pop(2)\n",
        "print(animals)\n",
        "animals.pop(1)\n",
        "print(animals)\n",
        "animals.pop(0)\n",
        "print(animals)"
      ],
      "metadata": {
        "colab": {
          "base_uri": "https://localhost:8080/",
          "height": 0
        },
        "id": "LWa-lbC75Rfx",
        "outputId": "6c16b6cd-4021-4302-e406-2a1c6e119c69"
      },
      "execution_count": 88,
      "outputs": [
        {
          "output_type": "stream",
          "name": "stdout",
          "text": [
            "['cow', 'goat', 'bullock']\n",
            "['cow', 'goat']\n",
            "['cow']\n",
            "[]\n"
          ]
        }
      ]
    },
    {
      "cell_type": "markdown",
      "source": [
        "## DEL"
      ],
      "metadata": {
        "id": "2yyRvvHn6SLz"
      }
    },
    {
      "cell_type": "code",
      "source": [
        "animals = [\"cow\",\"goat\",\"bullock\",\"buffalo\"]\n",
        "del animals[0]\n",
        "print(animals)\n",
        "del animals[2]\n",
        "print(animals)\n",
        "del animals[1]\n",
        "print(animals)"
      ],
      "metadata": {
        "colab": {
          "base_uri": "https://localhost:8080/",
          "height": 0
        },
        "id": "XN8KzlT76HM9",
        "outputId": "dd833cca-dbbe-44f2-eeea-6b38c931ca3b"
      },
      "execution_count": 96,
      "outputs": [
        {
          "output_type": "stream",
          "name": "stdout",
          "text": [
            "['goat', 'bullock', 'buffalo']\n",
            "['goat', 'bullock']\n",
            "['goat']\n"
          ]
        }
      ]
    },
    {
      "cell_type": "code",
      "source": [
        ""
      ],
      "metadata": {
        "id": "Q0v-bWW77HVS"
      },
      "execution_count": null,
      "outputs": []
    },
    {
      "cell_type": "markdown",
      "source": [
        "## CLEAR"
      ],
      "metadata": {
        "id": "_K9_R1Ev7It-"
      }
    },
    {
      "cell_type": "code",
      "source": [
        "animals = [\"cow\",\"goat\",\"bullock\",\"buffalo\"]\n",
        "animals.clear()\n",
        "print(animals)"
      ],
      "metadata": {
        "colab": {
          "base_uri": "https://localhost:8080/",
          "height": 0
        },
        "id": "dBjdcKMs7K_-",
        "outputId": "d91e05f5-2f12-438c-82b1-40e0da3b5420"
      },
      "execution_count": 99,
      "outputs": [
        {
          "output_type": "stream",
          "name": "stdout",
          "text": [
            "[]\n"
          ]
        }
      ]
    },
    {
      "cell_type": "code",
      "source": [
        "fruit=[\"goa\",\"apple\",\"banana\",\"mango\"]\n",
        "fruit.clear()\n",
        "print(fruit)\n"
      ],
      "metadata": {
        "colab": {
          "base_uri": "https://localhost:8080/",
          "height": 0
        },
        "id": "0wY-3CuG7v25",
        "outputId": "8d1a0c29-0aeb-49e8-fbe6-1462ae8a5e00"
      },
      "execution_count": 100,
      "outputs": [
        {
          "output_type": "stream",
          "name": "stdout",
          "text": [
            "[]\n"
          ]
        }
      ]
    }
  ]
}